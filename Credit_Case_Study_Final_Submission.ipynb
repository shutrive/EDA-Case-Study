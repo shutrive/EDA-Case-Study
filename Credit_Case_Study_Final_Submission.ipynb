{
 "cells": [
  {
   "cell_type": "code",
   "execution_count": 1,
   "metadata": {},
   "outputs": [],
   "source": [
    "# Supress Warnings\n",
    "\n",
    "import warnings\n",
    "warnings.filterwarnings('ignore')"
   ]
  },
  {
   "cell_type": "code",
   "execution_count": 2,
   "metadata": {},
   "outputs": [],
   "source": [
    "#Importing Pandas and Numpy libraries for necessary dataframe and numerical operations\n",
    "import pandas as pd\n",
    "import numpy as np\n",
    "\n",
    "#Importing matplotlib and seaborn libraries for plotting operations  \n",
    "import matplotlib.pyplot as plt\n",
    "import seaborn as sns\n",
    "pd.set_option('float_format', '{:f}'.format) # To print all the numbers in full "
   ]
  },
  {
   "cell_type": "markdown",
   "metadata": {},
   "source": [
    "### Task 1: Reading and Inspecting the Application File\n",
    "Subtask: Import and Read data\n",
    "Import and read the Application database. "
   ]
  },
  {
   "cell_type": "code",
   "execution_count": 3,
   "metadata": {},
   "outputs": [
    {
     "data": {
      "text/html": [
       "<div>\n",
       "<style scoped>\n",
       "    .dataframe tbody tr th:only-of-type {\n",
       "        vertical-align: middle;\n",
       "    }\n",
       "\n",
       "    .dataframe tbody tr th {\n",
       "        vertical-align: top;\n",
       "    }\n",
       "\n",
       "    .dataframe thead th {\n",
       "        text-align: right;\n",
       "    }\n",
       "</style>\n",
       "<table border=\"1\" class=\"dataframe\">\n",
       "  <thead>\n",
       "    <tr style=\"text-align: right;\">\n",
       "      <th></th>\n",
       "      <th>SK_ID_CURR</th>\n",
       "      <th>TARGET</th>\n",
       "      <th>NAME_CONTRACT_TYPE</th>\n",
       "      <th>CODE_GENDER</th>\n",
       "      <th>FLAG_OWN_CAR</th>\n",
       "      <th>FLAG_OWN_REALTY</th>\n",
       "      <th>CNT_CHILDREN</th>\n",
       "      <th>AMT_INCOME_TOTAL</th>\n",
       "      <th>AMT_CREDIT</th>\n",
       "      <th>AMT_ANNUITY</th>\n",
       "      <th>...</th>\n",
       "      <th>FLAG_DOCUMENT_18</th>\n",
       "      <th>FLAG_DOCUMENT_19</th>\n",
       "      <th>FLAG_DOCUMENT_20</th>\n",
       "      <th>FLAG_DOCUMENT_21</th>\n",
       "      <th>AMT_REQ_CREDIT_BUREAU_HOUR</th>\n",
       "      <th>AMT_REQ_CREDIT_BUREAU_DAY</th>\n",
       "      <th>AMT_REQ_CREDIT_BUREAU_WEEK</th>\n",
       "      <th>AMT_REQ_CREDIT_BUREAU_MON</th>\n",
       "      <th>AMT_REQ_CREDIT_BUREAU_QRT</th>\n",
       "      <th>AMT_REQ_CREDIT_BUREAU_YEAR</th>\n",
       "    </tr>\n",
       "  </thead>\n",
       "  <tbody>\n",
       "    <tr>\n",
       "      <th>0</th>\n",
       "      <td>100002</td>\n",
       "      <td>1</td>\n",
       "      <td>Cash loans</td>\n",
       "      <td>M</td>\n",
       "      <td>N</td>\n",
       "      <td>Y</td>\n",
       "      <td>0</td>\n",
       "      <td>202500.000000</td>\n",
       "      <td>406597.500000</td>\n",
       "      <td>24700.500000</td>\n",
       "      <td>...</td>\n",
       "      <td>0</td>\n",
       "      <td>0</td>\n",
       "      <td>0</td>\n",
       "      <td>0</td>\n",
       "      <td>0.000000</td>\n",
       "      <td>0.000000</td>\n",
       "      <td>0.000000</td>\n",
       "      <td>0.000000</td>\n",
       "      <td>0.000000</td>\n",
       "      <td>1.000000</td>\n",
       "    </tr>\n",
       "    <tr>\n",
       "      <th>1</th>\n",
       "      <td>100003</td>\n",
       "      <td>0</td>\n",
       "      <td>Cash loans</td>\n",
       "      <td>F</td>\n",
       "      <td>N</td>\n",
       "      <td>N</td>\n",
       "      <td>0</td>\n",
       "      <td>270000.000000</td>\n",
       "      <td>1293502.500000</td>\n",
       "      <td>35698.500000</td>\n",
       "      <td>...</td>\n",
       "      <td>0</td>\n",
       "      <td>0</td>\n",
       "      <td>0</td>\n",
       "      <td>0</td>\n",
       "      <td>0.000000</td>\n",
       "      <td>0.000000</td>\n",
       "      <td>0.000000</td>\n",
       "      <td>0.000000</td>\n",
       "      <td>0.000000</td>\n",
       "      <td>0.000000</td>\n",
       "    </tr>\n",
       "    <tr>\n",
       "      <th>2</th>\n",
       "      <td>100004</td>\n",
       "      <td>0</td>\n",
       "      <td>Revolving loans</td>\n",
       "      <td>M</td>\n",
       "      <td>Y</td>\n",
       "      <td>Y</td>\n",
       "      <td>0</td>\n",
       "      <td>67500.000000</td>\n",
       "      <td>135000.000000</td>\n",
       "      <td>6750.000000</td>\n",
       "      <td>...</td>\n",
       "      <td>0</td>\n",
       "      <td>0</td>\n",
       "      <td>0</td>\n",
       "      <td>0</td>\n",
       "      <td>0.000000</td>\n",
       "      <td>0.000000</td>\n",
       "      <td>0.000000</td>\n",
       "      <td>0.000000</td>\n",
       "      <td>0.000000</td>\n",
       "      <td>0.000000</td>\n",
       "    </tr>\n",
       "    <tr>\n",
       "      <th>3</th>\n",
       "      <td>100006</td>\n",
       "      <td>0</td>\n",
       "      <td>Cash loans</td>\n",
       "      <td>F</td>\n",
       "      <td>N</td>\n",
       "      <td>Y</td>\n",
       "      <td>0</td>\n",
       "      <td>135000.000000</td>\n",
       "      <td>312682.500000</td>\n",
       "      <td>29686.500000</td>\n",
       "      <td>...</td>\n",
       "      <td>0</td>\n",
       "      <td>0</td>\n",
       "      <td>0</td>\n",
       "      <td>0</td>\n",
       "      <td>nan</td>\n",
       "      <td>nan</td>\n",
       "      <td>nan</td>\n",
       "      <td>nan</td>\n",
       "      <td>nan</td>\n",
       "      <td>nan</td>\n",
       "    </tr>\n",
       "    <tr>\n",
       "      <th>4</th>\n",
       "      <td>100007</td>\n",
       "      <td>0</td>\n",
       "      <td>Cash loans</td>\n",
       "      <td>M</td>\n",
       "      <td>N</td>\n",
       "      <td>Y</td>\n",
       "      <td>0</td>\n",
       "      <td>121500.000000</td>\n",
       "      <td>513000.000000</td>\n",
       "      <td>21865.500000</td>\n",
       "      <td>...</td>\n",
       "      <td>0</td>\n",
       "      <td>0</td>\n",
       "      <td>0</td>\n",
       "      <td>0</td>\n",
       "      <td>0.000000</td>\n",
       "      <td>0.000000</td>\n",
       "      <td>0.000000</td>\n",
       "      <td>0.000000</td>\n",
       "      <td>0.000000</td>\n",
       "      <td>0.000000</td>\n",
       "    </tr>\n",
       "  </tbody>\n",
       "</table>\n",
       "<p>5 rows × 122 columns</p>\n",
       "</div>"
      ],
      "text/plain": [
       "   SK_ID_CURR  TARGET NAME_CONTRACT_TYPE CODE_GENDER FLAG_OWN_CAR  \\\n",
       "0      100002       1         Cash loans           M            N   \n",
       "1      100003       0         Cash loans           F            N   \n",
       "2      100004       0    Revolving loans           M            Y   \n",
       "3      100006       0         Cash loans           F            N   \n",
       "4      100007       0         Cash loans           M            N   \n",
       "\n",
       "  FLAG_OWN_REALTY  CNT_CHILDREN  AMT_INCOME_TOTAL     AMT_CREDIT  AMT_ANNUITY  \\\n",
       "0               Y             0     202500.000000  406597.500000 24700.500000   \n",
       "1               N             0     270000.000000 1293502.500000 35698.500000   \n",
       "2               Y             0      67500.000000  135000.000000  6750.000000   \n",
       "3               Y             0     135000.000000  312682.500000 29686.500000   \n",
       "4               Y             0     121500.000000  513000.000000 21865.500000   \n",
       "\n",
       "   ...  FLAG_DOCUMENT_18 FLAG_DOCUMENT_19 FLAG_DOCUMENT_20 FLAG_DOCUMENT_21  \\\n",
       "0  ...                 0                0                0                0   \n",
       "1  ...                 0                0                0                0   \n",
       "2  ...                 0                0                0                0   \n",
       "3  ...                 0                0                0                0   \n",
       "4  ...                 0                0                0                0   \n",
       "\n",
       "  AMT_REQ_CREDIT_BUREAU_HOUR AMT_REQ_CREDIT_BUREAU_DAY  \\\n",
       "0                   0.000000                  0.000000   \n",
       "1                   0.000000                  0.000000   \n",
       "2                   0.000000                  0.000000   \n",
       "3                        nan                       nan   \n",
       "4                   0.000000                  0.000000   \n",
       "\n",
       "   AMT_REQ_CREDIT_BUREAU_WEEK  AMT_REQ_CREDIT_BUREAU_MON  \\\n",
       "0                    0.000000                   0.000000   \n",
       "1                    0.000000                   0.000000   \n",
       "2                    0.000000                   0.000000   \n",
       "3                         nan                        nan   \n",
       "4                    0.000000                   0.000000   \n",
       "\n",
       "   AMT_REQ_CREDIT_BUREAU_QRT  AMT_REQ_CREDIT_BUREAU_YEAR  \n",
       "0                   0.000000                    1.000000  \n",
       "1                   0.000000                    0.000000  \n",
       "2                   0.000000                    0.000000  \n",
       "3                        nan                         nan  \n",
       "4                   0.000000                    0.000000  \n",
       "\n",
       "[5 rows x 122 columns]"
      ]
     },
     "execution_count": 3,
     "metadata": {},
     "output_type": "execute_result"
    }
   ],
   "source": [
    "#Loading the Application dataset stored locally into the application variable\n",
    "application = pd.read_csv('C:/SHUBHANGI/GroupCaseStudy/application_data.csv')\n",
    "#Checking the top 5 rows to verify that DF is loaded properly\n",
    "application.head(5)"
   ]
  },
  {
   "cell_type": "markdown",
   "metadata": {},
   "source": [
    "### Subtask: Inspect the dataframe¶\n",
    "Inspect the dataframe's columns, shapes, variable types etc"
   ]
  },
  {
   "cell_type": "code",
   "execution_count": 4,
   "metadata": {},
   "outputs": [
    {
     "name": "stdout",
     "output_type": "stream",
     "text": [
      "Index(['SK_ID_CURR', 'TARGET', 'NAME_CONTRACT_TYPE', 'CODE_GENDER',\n",
      "       'FLAG_OWN_CAR', 'FLAG_OWN_REALTY', 'CNT_CHILDREN', 'AMT_INCOME_TOTAL',\n",
      "       'AMT_CREDIT', 'AMT_ANNUITY',\n",
      "       ...\n",
      "       'FLAG_DOCUMENT_18', 'FLAG_DOCUMENT_19', 'FLAG_DOCUMENT_20',\n",
      "       'FLAG_DOCUMENT_21', 'AMT_REQ_CREDIT_BUREAU_HOUR',\n",
      "       'AMT_REQ_CREDIT_BUREAU_DAY', 'AMT_REQ_CREDIT_BUREAU_WEEK',\n",
      "       'AMT_REQ_CREDIT_BUREAU_MON', 'AMT_REQ_CREDIT_BUREAU_QRT',\n",
      "       'AMT_REQ_CREDIT_BUREAU_YEAR'],\n",
      "      dtype='object', length=122)\n",
      " (307511, 122)\n"
     ]
    }
   ],
   "source": [
    "column = application.columns\n",
    "shapes = application.shape\n",
    "print(\"{0}\\n {1}\".format(column, shapes))"
   ]
  },
  {
   "cell_type": "markdown",
   "metadata": {},
   "source": [
    "As we can see that there are more than 3 lakh rown and 122 columns in the application file"
   ]
  },
  {
   "cell_type": "code",
   "execution_count": 5,
   "metadata": {},
   "outputs": [
    {
     "name": "stdout",
     "output_type": "stream",
     "text": [
      "<class 'pandas.core.frame.DataFrame'>\n",
      "RangeIndex: 307511 entries, 0 to 307510\n",
      "Columns: 122 entries, SK_ID_CURR to AMT_REQ_CREDIT_BUREAU_YEAR\n",
      "dtypes: float64(65), int64(41), object(16)\n",
      "memory usage: 286.2+ MB\n"
     ]
    }
   ],
   "source": [
    "application.info()"
   ]
  },
  {
   "cell_type": "markdown",
   "metadata": {},
   "source": [
    "### Task 2: Cleaning the Data¶\n",
    "#### Subtask: Inspect Null values\n",
    "Find out the number of Null values in all the columns and rows. Also, find the percentage of Null values in each column."
   ]
  },
  {
   "cell_type": "code",
   "execution_count": 6,
   "metadata": {},
   "outputs": [
    {
     "data": {
      "text/plain": [
       "41"
      ]
     },
     "execution_count": 6,
     "metadata": {},
     "output_type": "execute_result"
    }
   ],
   "source": [
    "#Columnwise null values\n",
    "percent_wise_null = application.isnull().sum()*100/len(application)\n",
    "# Calculating no. of columns where null values are more than 50 percent \n",
    "len(percent_wise_null[percent_wise_null > 50])"
   ]
  },
  {
   "cell_type": "markdown",
   "metadata": {},
   "source": [
    "#### There are 41 columns where the null values are more than 50 percent. So removing those 41 columns  "
   ]
  },
  {
   "cell_type": "code",
   "execution_count": 7,
   "metadata": {},
   "outputs": [
    {
     "data": {
      "text/plain": [
       "Index(['OWN_CAR_AGE', 'EXT_SOURCE_1', 'APARTMENTS_AVG', 'BASEMENTAREA_AVG',\n",
       "       'YEARS_BUILD_AVG', 'COMMONAREA_AVG', 'ELEVATORS_AVG', 'ENTRANCES_AVG',\n",
       "       'FLOORSMIN_AVG', 'LANDAREA_AVG', 'LIVINGAPARTMENTS_AVG',\n",
       "       'LIVINGAREA_AVG', 'NONLIVINGAPARTMENTS_AVG', 'NONLIVINGAREA_AVG',\n",
       "       'APARTMENTS_MODE', 'BASEMENTAREA_MODE', 'YEARS_BUILD_MODE',\n",
       "       'COMMONAREA_MODE', 'ELEVATORS_MODE', 'ENTRANCES_MODE', 'FLOORSMIN_MODE',\n",
       "       'LANDAREA_MODE', 'LIVINGAPARTMENTS_MODE', 'LIVINGAREA_MODE',\n",
       "       'NONLIVINGAPARTMENTS_MODE', 'NONLIVINGAREA_MODE', 'APARTMENTS_MEDI',\n",
       "       'BASEMENTAREA_MEDI', 'YEARS_BUILD_MEDI', 'COMMONAREA_MEDI',\n",
       "       'ELEVATORS_MEDI', 'ENTRANCES_MEDI', 'FLOORSMIN_MEDI', 'LANDAREA_MEDI',\n",
       "       'LIVINGAPARTMENTS_MEDI', 'LIVINGAREA_MEDI', 'NONLIVINGAPARTMENTS_MEDI',\n",
       "       'NONLIVINGAREA_MEDI', 'FONDKAPREMONT_MODE', 'HOUSETYPE_MODE',\n",
       "       'WALLSMATERIAL_MODE'],\n",
       "      dtype='object')"
      ]
     },
     "execution_count": 7,
     "metadata": {},
     "output_type": "execute_result"
    }
   ],
   "source": [
    "#Extract column names from percent_wise_null DF\n",
    "column_to_delete = percent_wise_null[percent_wise_null > 50].index\n",
    "column_to_delete"
   ]
  },
  {
   "cell_type": "code",
   "execution_count": 8,
   "metadata": {},
   "outputs": [
    {
     "data": {
      "text/plain": [
       "(307511, 81)"
      ]
     },
     "execution_count": 8,
     "metadata": {},
     "output_type": "execute_result"
    }
   ],
   "source": [
    "#Dropping the column and making the changes permanent to Application DF using inplace\n",
    "application.drop(columns = column_to_delete, inplace = True)\n",
    "application.shape #To confirm columns are indeeed deleted => 122-41 = 81"
   ]
  },
  {
   "cell_type": "markdown",
   "metadata": {},
   "source": [
    "##### Now as advised in the video lecture will check columns having missing values between 0% to 13% so as to comment on value imputation"
   ]
  },
  {
   "cell_type": "code",
   "execution_count": 9,
   "metadata": {},
   "outputs": [
    {
     "data": {
      "text/plain": [
       "AMT_ANNUITY                0.003902\n",
       "AMT_GOODS_PRICE            0.090403\n",
       "NAME_TYPE_SUITE            0.420148\n",
       "CNT_FAM_MEMBERS            0.000650\n",
       "EXT_SOURCE_2               0.214626\n",
       "OBS_30_CNT_SOCIAL_CIRCLE   0.332021\n",
       "DEF_30_CNT_SOCIAL_CIRCLE   0.332021\n",
       "OBS_60_CNT_SOCIAL_CIRCLE   0.332021\n",
       "DEF_60_CNT_SOCIAL_CIRCLE   0.332021\n",
       "DAYS_LAST_PHONE_CHANGE     0.000325\n",
       "dtype: float64"
      ]
     },
     "execution_count": 9,
     "metadata": {},
     "output_type": "execute_result"
    }
   ],
   "source": [
    "#Reusing the above code with slight modifications\n",
    "percent_wise_null = application.isnull().sum()*100/len(application)\n",
    "# Names of columns where null values are between 0 and 13 percent \n",
    "percent_wise_null[ (percent_wise_null > 0) & (percent_wise_null < 13)] #need to use bit wise and operator"
   ]
  },
  {
   "cell_type": "markdown",
   "metadata": {},
   "source": [
    "##### So now we will try to comment about imputing values to 5 -6 columns as per the instructions given for case study but we will not actually impute it"
   ]
  },
  {
   "cell_type": "code",
   "execution_count": 10,
   "metadata": {},
   "outputs": [
    {
     "data": {
      "text/plain": [
       "count   307499.000000\n",
       "mean     27108.573909\n",
       "std      14493.737315\n",
       "min       1615.500000\n",
       "25%      16524.000000\n",
       "50%      24903.000000\n",
       "75%      34596.000000\n",
       "max     258025.500000\n",
       "Name: AMT_ANNUITY, dtype: float64"
      ]
     },
     "execution_count": 10,
     "metadata": {},
     "output_type": "execute_result"
    }
   ],
   "source": [
    "#Lets try to analyse the first column i.e. AMT_ANNUITY\n",
    "application[\"AMT_ANNUITY\"].describe()"
   ]
  },
  {
   "cell_type": "markdown",
   "metadata": {},
   "source": [
    "##### As we can see that maximum value is Rs.2,58,025 where as mean is Rs.27,108. This can be taken as an indicator that there is an outlier present in the column. We will try to further confirm it using box plot.    "
   ]
  },
  {
   "cell_type": "code",
   "execution_count": 11,
   "metadata": {},
   "outputs": [
    {
     "data": {
      "image/png": "[encoded data removed]",
      "text/plain": [
       "<Figure size 432x288 with 1 Axes>"
      ]
     },
     "metadata": {
      "needs_background": "light"
     },
     "output_type": "display_data"
    }
   ],
   "source": [
    "sns.boxplot(x=application[\"AMT_ANNUITY\"]);"
   ]
  },
  {
   "cell_type": "markdown",
   "metadata": {},
   "source": [
    "####### As can be confirmed from the above boxplot that there are many outliers in the dataset.\n",
    "#### So it is better to impute the column with Median than with mean.\n",
    "As advised we have only commented on the imputation and not actually imputed."
   ]
  },
  {
   "cell_type": "code",
   "execution_count": 12,
   "metadata": {},
   "outputs": [
    {
     "data": {
      "text/plain": [
       "count    307233.000000\n",
       "mean     538396.207429\n",
       "std      369446.460540\n",
       "min       40500.000000\n",
       "25%      238500.000000\n",
       "50%      450000.000000\n",
       "75%      679500.000000\n",
       "max     4050000.000000\n",
       "Name: AMT_GOODS_PRICE, dtype: float64"
      ]
     },
     "execution_count": 12,
     "metadata": {},
     "output_type": "execute_result"
    }
   ],
   "source": [
    "#Now lets analyse next column AMT_GOODS_PRICE\n",
    "application[\"AMT_GOODS_PRICE\"].describe()"
   ]
  },
  {
   "cell_type": "code",
   "execution_count": 13,
   "metadata": {},
   "outputs": [
    {
     "data": {
      "text/plain": [
       "0.500000    450000.000000\n",
       "0.800000    814500.000000\n",
       "0.900000   1093500.000000\n",
       "0.950000   1305000.000000\n",
       "0.990000   1800000.000000\n",
       "1.000000   4050000.000000\n",
       "Name: AMT_GOODS_PRICE, dtype: float64"
      ]
     },
     "execution_count": 13,
     "metadata": {},
     "output_type": "execute_result"
    }
   ],
   "source": [
    "#Here also we can see the outlier as the maximum value is higher than 75%. Just confirm with quantile values\n",
    "application[\"AMT_GOODS_PRICE\"].quantile([0.5,0.8,0.9,0.95,0.99,1])\n"
   ]
  },
  {
   "cell_type": "markdown",
   "metadata": {},
   "source": [
    "##### As we can see 99 percentile value is 18 lakh where as maximum value is 40.50 lakh, hence the mean is affected which is understandable also as the column gives us information about the value of goods for which loan is given  which in some cases can be higher\n",
    "##### So again we will use median value for imputing the column but we will actually not impute value"
   ]
  },
  {
   "cell_type": "markdown",
   "metadata": {},
   "source": [
    "##### Lets Try to analyse the next column"
   ]
  },
  {
   "cell_type": "code",
   "execution_count": 14,
   "metadata": {},
   "outputs": [
    {
     "data": {
      "text/plain": [
       "count            306219\n",
       "unique                7\n",
       "top       Unaccompanied\n",
       "freq             248526\n",
       "Name: NAME_TYPE_SUITE, dtype: object"
      ]
     },
     "execution_count": 14,
     "metadata": {},
     "output_type": "execute_result"
    }
   ],
   "source": [
    "application[\"NAME_TYPE_SUITE\"].describe()"
   ]
  },
  {
   "cell_type": "code",
   "execution_count": 15,
   "metadata": {},
   "outputs": [
    {
     "data": {
      "text/plain": [
       "Unaccompanied     0.811596\n",
       "Family            0.131112\n",
       "Spouse, partner   0.037130\n",
       "Children          0.010669\n",
       "Other_B           0.005780\n",
       "Other_A           0.002828\n",
       "Group of people   0.000885\n",
       "Name: NAME_TYPE_SUITE, dtype: float64"
      ]
     },
     "execution_count": 15,
     "metadata": {},
     "output_type": "execute_result"
    }
   ],
   "source": [
    "#Lets check the value count of each of the values in the column\n",
    "application[\"NAME_TYPE_SUITE\"].value_counts(normalize = True)"
   ]
  },
  {
   "cell_type": "markdown",
   "metadata": {},
   "source": [
    "#### As we can see almost 81 percent of the time the person comes unaccompanied so we may use the Unaccompanied value i.e. Mode value to impute column"
   ]
  },
  {
   "cell_type": "markdown",
   "metadata": {},
   "source": [
    "##### Now we will try to comment about imputing missing values in CNT_FAM_MEMBERS column by analysing it "
   ]
  },
  {
   "cell_type": "code",
   "execution_count": 16,
   "metadata": {},
   "outputs": [
    {
     "data": {
      "text/plain": [
       "2.000000    0.514967\n",
       "1.000000    0.220634\n",
       "3.000000    0.171055\n",
       "4.000000    0.080313\n",
       "5.000000    0.011310\n",
       "6.000000    0.001327\n",
       "7.000000    0.000263\n",
       "8.000000    0.000065\n",
       "9.000000    0.000020\n",
       "10.000000   0.000010\n",
       "14.000000   0.000007\n",
       "16.000000   0.000007\n",
       "12.000000   0.000007\n",
       "20.000000   0.000007\n",
       "11.000000   0.000003\n",
       "13.000000   0.000003\n",
       "15.000000   0.000003\n",
       "Name: CNT_FAM_MEMBERS, dtype: float64"
      ]
     },
     "execution_count": 16,
     "metadata": {},
     "output_type": "execute_result"
    }
   ],
   "source": [
    "application[\"CNT_FAM_MEMBERS\"].value_counts(normalize = True)"
   ]
  },
  {
   "cell_type": "markdown",
   "metadata": {},
   "source": [
    "###### As we can see majority of the customers are having 2 family members we will impute the column with 2 i.e. with the mode value\n",
    "But we will not actually impute it "
   ]
  },
  {
   "cell_type": "code",
   "execution_count": 17,
   "metadata": {},
   "outputs": [
    {
     "data": {
      "text/plain": [
       "count   306851.000000\n",
       "mean         0.514393\n",
       "std          0.191060\n",
       "min          0.000000\n",
       "25%          0.392457\n",
       "50%          0.565961\n",
       "75%          0.663617\n",
       "max          0.855000\n",
       "Name: EXT_SOURCE_2, dtype: float64"
      ]
     },
     "execution_count": 17,
     "metadata": {},
     "output_type": "execute_result"
    }
   ],
   "source": [
    "application[\"EXT_SOURCE_2\"].describe()"
   ]
  },
  {
   "cell_type": "code",
   "execution_count": 18,
   "metadata": {},
   "outputs": [
    {
     "data": {
      "image/png": "[encoded data removed]",
      "text/plain": [
       "<Figure size 432x288 with 1 Axes>"
      ]
     },
     "metadata": {
      "needs_background": "light"
     },
     "output_type": "display_data"
    }
   ],
   "source": [
    "sns.distplot(application[\"EXT_SOURCE_2\"]);"
   ]
  },
  {
   "cell_type": "markdown",
   "metadata": {},
   "source": [
    "##### As we can see that data is right skewed in case of EXT_SOURCE_2. So we will inpute the column with Median value."
   ]
  },
  {
   "cell_type": "code",
   "execution_count": 19,
   "metadata": {},
   "outputs": [
    {
     "data": {
      "text/plain": [
       "count   306490.000000\n",
       "mean         1.422245\n",
       "std          2.400989\n",
       "min          0.000000\n",
       "25%          0.000000\n",
       "50%          0.000000\n",
       "75%          2.000000\n",
       "max        348.000000\n",
       "Name: OBS_30_CNT_SOCIAL_CIRCLE, dtype: float64"
      ]
     },
     "execution_count": 19,
     "metadata": {},
     "output_type": "execute_result"
    }
   ],
   "source": [
    "application[\"OBS_30_CNT_SOCIAL_CIRCLE\"].describe()"
   ]
  },
  {
   "cell_type": "code",
   "execution_count": 20,
   "metadata": {},
   "outputs": [
    {
     "data": {
      "text/plain": [
       "0.500000     0.000000\n",
       "0.600000     1.000000\n",
       "0.800000     3.000000\n",
       "0.900000     4.000000\n",
       "0.950000     6.000000\n",
       "0.990000    10.000000\n",
       "1.000000   348.000000\n",
       "Name: OBS_30_CNT_SOCIAL_CIRCLE, dtype: float64"
      ]
     },
     "execution_count": 20,
     "metadata": {},
     "output_type": "execute_result"
    }
   ],
   "source": [
    "#Here also we can see the outlier as the maximum value is higher than 75%. Just confirm with quantile values\n",
    "application[\"OBS_30_CNT_SOCIAL_CIRCLE\"].quantile([0.5,0.6,0.8,0.9,0.95,0.99,1])"
   ]
  },
  {
   "cell_type": "markdown",
   "metadata": {},
   "source": [
    "As we can see that there are some outlier values so we may impute the column with Median value which is zero."
   ]
  },
  {
   "cell_type": "markdown",
   "metadata": {},
   "source": [
    "Null Value Handling:\n",
    "\n",
    "AMT_ANNUITY  : Since there  was minimum difference between max and mean value, this suggested presence of outliers (confirmed using box plot) and hence null values need to imputed by median instead of mean.\n",
    "AMT_GOOD_PRICE : Since 99 percentile value and max value had huge difference, it confirmed the presence of outliers and hence null values need to be imputed by median.\n",
    "NAME_TYPE_SUITE : Since this is a categorical column, we imputed the  null value with Mode  , and after imputation confirmed that no major change  has occurred in percentage of  categories.\n",
    "CNT_FAM_MEMBERS : Again a categorical column, hence used mode value\n",
    "EXT_SOURCE_2: On plotting , a right skewed plot is observed that confirms outliers and hence median is well suited for imputing null values\n",
    "OBS_30_CNT_SOCIAL_CIRCLE : Here also outliers observed hence null value imputed with median\n"
   ]
  },
  {
   "cell_type": "code",
   "execution_count": 21,
   "metadata": {},
   "outputs": [
    {
     "name": "stdout",
     "output_type": "stream",
     "text": [
      "<class 'pandas.core.frame.DataFrame'>\n",
      "RangeIndex: 307511 entries, 0 to 307510\n",
      "Data columns (total 81 columns):\n",
      " #   Column                        Non-Null Count   Dtype  \n",
      "---  ------                        --------------   -----  \n",
      " 0   SK_ID_CURR                    307511 non-null  int64  \n",
      " 1   TARGET                        307511 non-null  int64  \n",
      " 2   NAME_CONTRACT_TYPE            307511 non-null  object \n",
      " 3   CODE_GENDER                   307511 non-null  object \n",
      " 4   FLAG_OWN_CAR                  307511 non-null  object \n",
      " 5   FLAG_OWN_REALTY               307511 non-null  object \n",
      " 6   CNT_CHILDREN                  307511 non-null  int64  \n",
      " 7   AMT_INCOME_TOTAL              307511 non-null  float64\n",
      " 8   AMT_CREDIT                    307511 non-null  float64\n",
      " 9   AMT_ANNUITY                   307499 non-null  float64\n",
      " 10  AMT_GOODS_PRICE               307233 non-null  float64\n",
      " 11  NAME_TYPE_SUITE               306219 non-null  object \n",
      " 12  NAME_INCOME_TYPE              307511 non-null  object \n",
      " 13  NAME_EDUCATION_TYPE           307511 non-null  object \n",
      " 14  NAME_FAMILY_STATUS            307511 non-null  object \n",
      " 15  NAME_HOUSING_TYPE             307511 non-null  object \n",
      " 16  REGION_POPULATION_RELATIVE    307511 non-null  float64\n",
      " 17  DAYS_BIRTH                    307511 non-null  int64  \n",
      " 18  DAYS_EMPLOYED                 307511 non-null  int64  \n",
      " 19  DAYS_REGISTRATION             307511 non-null  float64\n",
      " 20  DAYS_ID_PUBLISH               307511 non-null  int64  \n",
      " 21  FLAG_MOBIL                    307511 non-null  int64  \n",
      " 22  FLAG_EMP_PHONE                307511 non-null  int64  \n",
      " 23  FLAG_WORK_PHONE               307511 non-null  int64  \n",
      " 24  FLAG_CONT_MOBILE              307511 non-null  int64  \n",
      " 25  FLAG_PHONE                    307511 non-null  int64  \n",
      " 26  FLAG_EMAIL                    307511 non-null  int64  \n",
      " 27  OCCUPATION_TYPE               211120 non-null  object \n",
      " 28  CNT_FAM_MEMBERS               307509 non-null  float64\n",
      " 29  REGION_RATING_CLIENT          307511 non-null  int64  \n",
      " 30  REGION_RATING_CLIENT_W_CITY   307511 non-null  int64  \n",
      " 31  WEEKDAY_APPR_PROCESS_START    307511 non-null  object \n",
      " 32  HOUR_APPR_PROCESS_START       307511 non-null  int64  \n",
      " 33  REG_REGION_NOT_LIVE_REGION    307511 non-null  int64  \n",
      " 34  REG_REGION_NOT_WORK_REGION    307511 non-null  int64  \n",
      " 35  LIVE_REGION_NOT_WORK_REGION   307511 non-null  int64  \n",
      " 36  REG_CITY_NOT_LIVE_CITY        307511 non-null  int64  \n",
      " 37  REG_CITY_NOT_WORK_CITY        307511 non-null  int64  \n",
      " 38  LIVE_CITY_NOT_WORK_CITY       307511 non-null  int64  \n",
      " 39  ORGANIZATION_TYPE             307511 non-null  object \n",
      " 40  EXT_SOURCE_2                  306851 non-null  float64\n",
      " 41  EXT_SOURCE_3                  246546 non-null  float64\n",
      " 42  YEARS_BEGINEXPLUATATION_AVG   157504 non-null  float64\n",
      " 43  FLOORSMAX_AVG                 154491 non-null  float64\n",
      " 44  YEARS_BEGINEXPLUATATION_MODE  157504 non-null  float64\n",
      " 45  FLOORSMAX_MODE                154491 non-null  float64\n",
      " 46  YEARS_BEGINEXPLUATATION_MEDI  157504 non-null  float64\n",
      " 47  FLOORSMAX_MEDI                154491 non-null  float64\n",
      " 48  TOTALAREA_MODE                159080 non-null  float64\n",
      " 49  EMERGENCYSTATE_MODE           161756 non-null  object \n",
      " 50  OBS_30_CNT_SOCIAL_CIRCLE      306490 non-null  float64\n",
      " 51  DEF_30_CNT_SOCIAL_CIRCLE      306490 non-null  float64\n",
      " 52  OBS_60_CNT_SOCIAL_CIRCLE      306490 non-null  float64\n",
      " 53  DEF_60_CNT_SOCIAL_CIRCLE      306490 non-null  float64\n",
      " 54  DAYS_LAST_PHONE_CHANGE        307510 non-null  float64\n",
      " 55  FLAG_DOCUMENT_2               307511 non-null  int64  \n",
      " 56  FLAG_DOCUMENT_3               307511 non-null  int64  \n",
      " 57  FLAG_DOCUMENT_4               307511 non-null  int64  \n",
      " 58  FLAG_DOCUMENT_5               307511 non-null  int64  \n",
      " 59  FLAG_DOCUMENT_6               307511 non-null  int64  \n",
      " 60  FLAG_DOCUMENT_7               307511 non-null  int64  \n",
      " 61  FLAG_DOCUMENT_8               307511 non-null  int64  \n",
      " 62  FLAG_DOCUMENT_9               307511 non-null  int64  \n",
      " 63  FLAG_DOCUMENT_10              307511 non-null  int64  \n",
      " 64  FLAG_DOCUMENT_11              307511 non-null  int64  \n",
      " 65  FLAG_DOCUMENT_12              307511 non-null  int64  \n",
      " 66  FLAG_DOCUMENT_13              307511 non-null  int64  \n",
      " 67  FLAG_DOCUMENT_14              307511 non-null  int64  \n",
      " 68  FLAG_DOCUMENT_15              307511 non-null  int64  \n",
      " 69  FLAG_DOCUMENT_16              307511 non-null  int64  \n",
      " 70  FLAG_DOCUMENT_17              307511 non-null  int64  \n",
      " 71  FLAG_DOCUMENT_18              307511 non-null  int64  \n",
      " 72  FLAG_DOCUMENT_19              307511 non-null  int64  \n",
      " 73  FLAG_DOCUMENT_20              307511 non-null  int64  \n",
      " 74  FLAG_DOCUMENT_21              307511 non-null  int64  \n",
      " 75  AMT_REQ_CREDIT_BUREAU_HOUR    265992 non-null  float64\n",
      " 76  AMT_REQ_CREDIT_BUREAU_DAY     265992 non-null  float64\n",
      " 77  AMT_REQ_CREDIT_BUREAU_WEEK    265992 non-null  float64\n",
      " 78  AMT_REQ_CREDIT_BUREAU_MON     265992 non-null  float64\n",
      " 79  AMT_REQ_CREDIT_BUREAU_QRT     265992 non-null  float64\n",
      " 80  AMT_REQ_CREDIT_BUREAU_YEAR    265992 non-null  float64\n",
      "dtypes: float64(27), int64(41), object(13)\n",
      "memory usage: 190.0+ MB\n"
     ]
    }
   ],
   "source": [
    "application.info()"
   ]
  },
  {
   "cell_type": "code",
   "execution_count": 22,
   "metadata": {},
   "outputs": [],
   "source": [
    "#Now we will find the numberical and categorical variables\n",
    "all_features = application.nunique().sort_values()\n",
    "numerical_features  = all_features[all_features >8].index\n",
    "categorical_features = all_features[all_features <= 8].index"
   ]
  },
  {
   "cell_type": "code",
   "execution_count": 23,
   "metadata": {},
   "outputs": [
    {
     "data": {
      "text/plain": [
       "Index(['DEF_60_CNT_SOCIAL_CIRCLE', 'AMT_REQ_CREDIT_BUREAU_WEEK',\n",
       "       'AMT_REQ_CREDIT_BUREAU_DAY', 'DEF_30_CNT_SOCIAL_CIRCLE',\n",
       "       'AMT_REQ_CREDIT_BUREAU_QRT', 'CNT_CHILDREN', 'CNT_FAM_MEMBERS',\n",
       "       'OCCUPATION_TYPE', 'HOUR_APPR_PROCESS_START',\n",
       "       'AMT_REQ_CREDIT_BUREAU_MON', 'AMT_REQ_CREDIT_BUREAU_YEAR',\n",
       "       'FLOORSMAX_MODE', 'OBS_60_CNT_SOCIAL_CIRCLE',\n",
       "       'OBS_30_CNT_SOCIAL_CIRCLE', 'FLOORSMAX_MEDI', 'ORGANIZATION_TYPE',\n",
       "       'REGION_POPULATION_RELATIVE', 'YEARS_BEGINEXPLUATATION_MODE',\n",
       "       'YEARS_BEGINEXPLUATATION_MEDI', 'YEARS_BEGINEXPLUATATION_AVG',\n",
       "       'FLOORSMAX_AVG', 'EXT_SOURCE_3', 'AMT_GOODS_PRICE', 'AMT_INCOME_TOTAL',\n",
       "       'DAYS_LAST_PHONE_CHANGE', 'TOTALAREA_MODE', 'AMT_CREDIT',\n",
       "       'DAYS_ID_PUBLISH', 'DAYS_EMPLOYED', 'AMT_ANNUITY', 'DAYS_REGISTRATION',\n",
       "       'DAYS_BIRTH', 'EXT_SOURCE_2', 'SK_ID_CURR'],\n",
       "      dtype='object')"
      ]
     },
     "execution_count": 23,
     "metadata": {},
     "output_type": "execute_result"
    }
   ],
   "source": [
    "numerical_features"
   ]
  },
  {
   "cell_type": "markdown",
   "metadata": {},
   "source": [
    "##### As we can see that except ORGANIZATION_TYPE and OCCUPATION_TYPE all are numerical columns so we will remove these two from numeric and add it to categorical "
   ]
  },
  {
   "cell_type": "code",
   "execution_count": 24,
   "metadata": {},
   "outputs": [
    {
     "data": {
      "text/plain": [
       "['DEF_60_CNT_SOCIAL_CIRCLE',\n",
       " 'AMT_REQ_CREDIT_BUREAU_WEEK',\n",
       " 'AMT_REQ_CREDIT_BUREAU_DAY',\n",
       " 'DEF_30_CNT_SOCIAL_CIRCLE',\n",
       " 'AMT_REQ_CREDIT_BUREAU_QRT',\n",
       " 'CNT_CHILDREN',\n",
       " 'CNT_FAM_MEMBERS',\n",
       " 'HOUR_APPR_PROCESS_START',\n",
       " 'AMT_REQ_CREDIT_BUREAU_MON',\n",
       " 'AMT_REQ_CREDIT_BUREAU_YEAR',\n",
       " 'FLOORSMAX_MODE',\n",
       " 'OBS_60_CNT_SOCIAL_CIRCLE',\n",
       " 'OBS_30_CNT_SOCIAL_CIRCLE',\n",
       " 'FLOORSMAX_MEDI',\n",
       " 'REGION_POPULATION_RELATIVE',\n",
       " 'YEARS_BEGINEXPLUATATION_MODE',\n",
       " 'YEARS_BEGINEXPLUATATION_MEDI',\n",
       " 'YEARS_BEGINEXPLUATATION_AVG',\n",
       " 'FLOORSMAX_AVG',\n",
       " 'EXT_SOURCE_3',\n",
       " 'AMT_GOODS_PRICE',\n",
       " 'AMT_INCOME_TOTAL',\n",
       " 'DAYS_LAST_PHONE_CHANGE',\n",
       " 'TOTALAREA_MODE',\n",
       " 'AMT_CREDIT',\n",
       " 'DAYS_ID_PUBLISH',\n",
       " 'DAYS_EMPLOYED',\n",
       " 'AMT_ANNUITY',\n",
       " 'DAYS_REGISTRATION',\n",
       " 'DAYS_BIRTH',\n",
       " 'EXT_SOURCE_2',\n",
       " 'SK_ID_CURR']"
      ]
     },
     "execution_count": 24,
     "metadata": {},
     "output_type": "execute_result"
    }
   ],
   "source": [
    "numerical_features = list(numerical_features)\n",
    "numerical_features.remove('ORGANIZATION_TYPE')\n",
    "numerical_features.remove('OCCUPATION_TYPE')\n",
    "numerical_features"
   ]
  },
  {
   "cell_type": "code",
   "execution_count": 25,
   "metadata": {},
   "outputs": [
    {
     "data": {
      "text/plain": [
       "['FLAG_DOCUMENT_3',\n",
       " 'FLAG_PHONE',\n",
       " 'FLAG_DOCUMENT_4',\n",
       " 'FLAG_DOCUMENT_2',\n",
       " 'REG_REGION_NOT_LIVE_REGION',\n",
       " 'REG_REGION_NOT_WORK_REGION',\n",
       " 'LIVE_REGION_NOT_WORK_REGION',\n",
       " 'REG_CITY_NOT_LIVE_CITY',\n",
       " 'REG_CITY_NOT_WORK_CITY',\n",
       " 'LIVE_CITY_NOT_WORK_CITY',\n",
       " 'FLAG_DOCUMENT_14',\n",
       " 'FLAG_DOCUMENT_13',\n",
       " 'FLAG_DOCUMENT_12',\n",
       " 'FLAG_DOCUMENT_11',\n",
       " 'FLAG_DOCUMENT_10',\n",
       " 'FLAG_DOCUMENT_9',\n",
       " 'FLAG_DOCUMENT_8',\n",
       " 'FLAG_DOCUMENT_7',\n",
       " 'EMERGENCYSTATE_MODE',\n",
       " 'FLAG_DOCUMENT_6',\n",
       " 'FLAG_CONT_MOBILE',\n",
       " 'FLAG_WORK_PHONE',\n",
       " 'FLAG_EMAIL',\n",
       " 'FLAG_MOBIL',\n",
       " 'TARGET',\n",
       " 'NAME_CONTRACT_TYPE',\n",
       " 'FLAG_OWN_CAR',\n",
       " 'FLAG_OWN_REALTY',\n",
       " 'FLAG_DOCUMENT_21',\n",
       " 'FLAG_DOCUMENT_20',\n",
       " 'FLAG_EMP_PHONE',\n",
       " 'FLAG_DOCUMENT_19',\n",
       " 'FLAG_DOCUMENT_5',\n",
       " 'FLAG_DOCUMENT_18',\n",
       " 'FLAG_DOCUMENT_15',\n",
       " 'FLAG_DOCUMENT_16',\n",
       " 'FLAG_DOCUMENT_17',\n",
       " 'REGION_RATING_CLIENT_W_CITY',\n",
       " 'CODE_GENDER',\n",
       " 'REGION_RATING_CLIENT',\n",
       " 'NAME_EDUCATION_TYPE',\n",
       " 'AMT_REQ_CREDIT_BUREAU_HOUR',\n",
       " 'NAME_HOUSING_TYPE',\n",
       " 'NAME_FAMILY_STATUS',\n",
       " 'WEEKDAY_APPR_PROCESS_START',\n",
       " 'NAME_TYPE_SUITE',\n",
       " 'NAME_INCOME_TYPE',\n",
       " 'ORGANIZATION_TYPE',\n",
       " 'OCCUPATION_TYPE']"
      ]
     },
     "execution_count": 25,
     "metadata": {},
     "output_type": "execute_result"
    }
   ],
   "source": [
    "categorical_features = list(categorical_features)\n",
    "categorical_features.append('ORGANIZATION_TYPE')\n",
    "categorical_features.append('OCCUPATION_TYPE')\n",
    "categorical_features"
   ]
  },
  {
   "cell_type": "code",
   "execution_count": 26,
   "metadata": {},
   "outputs": [
    {
     "data": {
      "image/png": "[encoded data removed]",
      "text/plain": [
       "<Figure size 1080x720 with 6 Axes>"
      ]
     },
     "metadata": {
      "needs_background": "light"
     },
     "output_type": "display_data"
    }
   ],
   "source": [
    "##### Now we will comment on the outliers for few of the columns\n",
    "#CNT_CHILDREN,CNT_Fam, HOUR_APPR ,AMT_REQ_CRE, REGION_POP Reative, EXT_SOURCE 3\n",
    "sub_num_feature = ['CNT_CHILDREN','CNT_FAM_MEMBERS','HOUR_APPR_PROCESS_START','AMT_REQ_CREDIT_BUREAU_YEAR',\n",
    " 'REGION_POPULATION_RELATIVE','EXT_SOURCE_3']\n",
    "plt.figure(figsize = (15,10))\n",
    "for i in range (6):\n",
    "    plt.subplot(2,3,i+1)\n",
    "    sns.boxplot(application[sub_num_feature[i]])\n",
    "plt.show()"
   ]
  },
  {
   "cell_type": "markdown",
   "metadata": {},
   "source": [
    "#### Comments regarding the outliers and reasoning\n",
    "1. We can see some outliers in the CNT_CHILDREN column. Most of the customers are having children in the range of 0 to 2 but having children more than 5 is rare but certainly possible hence we may bin them in case of analysis.\n",
    "2. We can see some outliers in CNT_FAM_MEMBERS column. Most people have 2 to 3 family members. But some people have as large as 20 which is a possibility in indian context where joint families exist.\n",
    "3. We can see some outliers in case of HOUR_APPR_PROCESS_START. We can see that most of the customers have applied between 10 AM to 2 PM which can be considered as office time. But it may be possible that bank has online application for loan and hence other timings may very well be possbile. Or else they can be considered as outliers\n",
    "4. We can see some outliers in AMT_REQ_CREDIT_BUREAU_YEAR. We can see that for most customers no of enquiries to credit bureau are in the range 0 to 3 which is a good sign. Generally if credit bureau enquiries are more than 6 customer is not considered credit worthy. Since the customer have many options to take credit more than 10 credit enquiries is very much possible and in reality the values are possible.\n",
    "5. There is only a single outlier in REGION_POPULATION_RELATIVE who is living in a very populated area.\n",
    "6. There is no outlier in EXT_SOURCE_3 column."
   ]
  },
  {
   "cell_type": "markdown",
   "metadata": {},
   "source": [
    "#### Binning of continuous variable"
   ]
  },
  {
   "cell_type": "markdown",
   "metadata": {},
   "source": [
    "We will categorise the CREDIT_AMT into various categories i.e. Low_exposure, moderate_exposure, medium_exposure, High_exposure and very_high_exposure based on credit amount given to the customers"
   ]
  },
  {
   "cell_type": "code",
   "execution_count": 27,
   "metadata": {},
   "outputs": [],
   "source": [
    "bins = [0,50000,200000,500000,1000000,2000000,2000000000] #Last value is given very high so as to include all other possible loan amounts \n",
    "Categories = [\"Very_Low_Exposure\", \"Low_Exposure\",\"Moderate_Exposure\",\"Medium_Exposure\",\"High_Exposure\",\"Very_High_Exposure\"]\n",
    "application[\"Credit_Exposure\"] = pd.cut(application[\"AMT_CREDIT\"],bins, labels = Categories)"
   ]
  },
  {
   "cell_type": "code",
   "execution_count": 28,
   "metadata": {},
   "outputs": [
    {
     "data": {
      "text/plain": [
       "Moderate_Exposure    0.368081\n",
       "Medium_Exposure      0.351835\n",
       "High_Exposure        0.155949\n",
       "Low_Exposure         0.115713\n",
       "Very_High_Exposure   0.006598\n",
       "Very_Low_Exposure    0.001824\n",
       "Name: Credit_Exposure, dtype: float64"
      ]
     },
     "execution_count": 28,
     "metadata": {},
     "output_type": "execute_result"
    }
   ],
   "source": [
    "application[\"Credit_Exposure\"].value_counts(normalize = True)"
   ]
  },
  {
   "cell_type": "markdown",
   "metadata": {},
   "source": [
    "As we can see that most of the loans of the bank are in the category Moderate to Medium exposure i.e. between 2 to 10 lakh (almost 72%)"
   ]
  },
  {
   "cell_type": "markdown",
   "metadata": {},
   "source": [
    "#### Now we will create bins for income i.e. AMT_INCOME_TOTAL column.We will create following categories - 0-1 lakh, 1-3 lakh, 3-5 lakh, 5-10 lakh, 10-15 lakh, 15-20 lakh and 20+"
   ]
  },
  {
   "cell_type": "code",
   "execution_count": 29,
   "metadata": {},
   "outputs": [],
   "source": [
    "bins = [0,100000,300000,500000,1000000,1500000,2000000,150000000000000] #Last value is given very high so as to include all other possible loan amounts \n",
    "Categories = [\"Low_Income\",\"Moderate_Income\",\"Medium_Income\",\"Moderately_High_Income\",\"High_Income\",\"Very_High_Income\",\"Very_Very_high_Income\"]\n",
    "application[\"Income_Category\"] = pd.cut(application[\"AMT_INCOME_TOTAL\"],bins, labels = Categories)"
   ]
  },
  {
   "cell_type": "code",
   "execution_count": 30,
   "metadata": {},
   "outputs": [
    {
     "data": {
      "text/plain": [
       "Moderate_Income          0.718914\n",
       "Low_Income               0.207141\n",
       "Medium_Income            0.065159\n",
       "Moderately_High_Income   0.007974\n",
       "High_Income              0.000540\n",
       "Very_Very_high_Income    0.000143\n",
       "Very_High_Income         0.000130\n",
       "Name: Income_Category, dtype: float64"
      ]
     },
     "execution_count": 30,
     "metadata": {},
     "output_type": "execute_result"
    }
   ],
   "source": [
    "application[\"Income_Category\"].value_counts(normalize = True)"
   ]
  },
  {
   "cell_type": "markdown",
   "metadata": {},
   "source": [
    "#### This gives us a clear idea that the firm is mostly lending to people whose income is less than 3 lakh and 90 percent of client base is from that income level."
   ]
  },
  {
   "cell_type": "markdown",
   "metadata": {},
   "source": [
    "### Calculating the imbalance"
   ]
  },
  {
   "cell_type": "code",
   "execution_count": 31,
   "metadata": {},
   "outputs": [
    {
     "name": "stdout",
     "output_type": "stream",
     "text": [
      "8.072881945686495\n"
     ]
    },
    {
     "data": {
      "text/plain": [
       "91.92711805431351"
      ]
     },
     "execution_count": 31,
     "metadata": {},
     "output_type": "execute_result"
    }
   ],
   "source": [
    "print(100*len(application[application[\"TARGET\"]==1])/len(application))\n",
    "100*len(application[application[\"TARGET\"]==0])/len(application)"
   ]
  },
  {
   "cell_type": "markdown",
   "metadata": {},
   "source": [
    "As we can see that in almost 92% of the cases there is no diffuclty in payment and only in around 8% of the cases there is a payment difficulty. So there is a data imbalance but in reality if we see the banking industry in general the stressed assets will not be more than 10 percent or else the bank will not survive "
   ]
  },
  {
   "cell_type": "markdown",
   "metadata": {},
   "source": [
    "### Dividing the data into 2 based on the value of Target variable"
   ]
  },
  {
   "cell_type": "code",
   "execution_count": 32,
   "metadata": {},
   "outputs": [],
   "source": [
    "Payment_difficulty = application.loc[application[\"TARGET\"]==1] #Loans where there was a difficulty in payments\n",
    "No_Payment_Difficulty = application.loc[application[\"TARGET\"]==0] ##Loans where there was NO difficulty in payments"
   ]
  },
  {
   "cell_type": "markdown",
   "metadata": {},
   "source": [
    "## Univariate Analysis\n",
    "Now we will do the univariate analysis for some of the categorical varibles with respect ot Target column. We will use the original dataframe for this purpose. "
   ]
  },
  {
   "cell_type": "code",
   "execution_count": 33,
   "metadata": {},
   "outputs": [
    {
     "data": {
      "text/plain": [
       "['FLAG_DOCUMENT_3',\n",
       " 'FLAG_PHONE',\n",
       " 'FLAG_DOCUMENT_4',\n",
       " 'FLAG_DOCUMENT_2',\n",
       " 'REG_REGION_NOT_LIVE_REGION',\n",
       " 'REG_REGION_NOT_WORK_REGION',\n",
       " 'LIVE_REGION_NOT_WORK_REGION',\n",
       " 'REG_CITY_NOT_LIVE_CITY',\n",
       " 'REG_CITY_NOT_WORK_CITY',\n",
       " 'LIVE_CITY_NOT_WORK_CITY',\n",
       " 'FLAG_DOCUMENT_14',\n",
       " 'FLAG_DOCUMENT_13',\n",
       " 'FLAG_DOCUMENT_12',\n",
       " 'FLAG_DOCUMENT_11',\n",
       " 'FLAG_DOCUMENT_10',\n",
       " 'FLAG_DOCUMENT_9',\n",
       " 'FLAG_DOCUMENT_8',\n",
       " 'FLAG_DOCUMENT_7',\n",
       " 'EMERGENCYSTATE_MODE',\n",
       " 'FLAG_DOCUMENT_6',\n",
       " 'FLAG_CONT_MOBILE',\n",
       " 'FLAG_WORK_PHONE',\n",
       " 'FLAG_EMAIL',\n",
       " 'FLAG_MOBIL',\n",
       " 'TARGET',\n",
       " 'NAME_CONTRACT_TYPE',\n",
       " 'FLAG_OWN_CAR',\n",
       " 'FLAG_OWN_REALTY',\n",
       " 'FLAG_DOCUMENT_21',\n",
       " 'FLAG_DOCUMENT_20',\n",
       " 'FLAG_EMP_PHONE',\n",
       " 'FLAG_DOCUMENT_19',\n",
       " 'FLAG_DOCUMENT_5',\n",
       " 'FLAG_DOCUMENT_18',\n",
       " 'FLAG_DOCUMENT_15',\n",
       " 'FLAG_DOCUMENT_16',\n",
       " 'FLAG_DOCUMENT_17',\n",
       " 'REGION_RATING_CLIENT_W_CITY',\n",
       " 'CODE_GENDER',\n",
       " 'REGION_RATING_CLIENT',\n",
       " 'NAME_EDUCATION_TYPE',\n",
       " 'AMT_REQ_CREDIT_BUREAU_HOUR',\n",
       " 'NAME_HOUSING_TYPE',\n",
       " 'NAME_FAMILY_STATUS',\n",
       " 'WEEKDAY_APPR_PROCESS_START',\n",
       " 'NAME_TYPE_SUITE',\n",
       " 'NAME_INCOME_TYPE',\n",
       " 'ORGANIZATION_TYPE',\n",
       " 'OCCUPATION_TYPE']"
      ]
     },
     "execution_count": 33,
     "metadata": {},
     "output_type": "execute_result"
    }
   ],
   "source": [
    "categorical_features"
   ]
  },
  {
   "cell_type": "code",
   "execution_count": 34,
   "metadata": {},
   "outputs": [
    {
     "data": {
      "image/png": "[encoded data removed]",
      "text/plain": [
       "<Figure size 1440x2160 with 6 Axes>"
      ]
     },
     "metadata": {
      "needs_background": "light"
     },
     "output_type": "display_data"
    }
   ],
   "source": [
    "#We will select some catagorical features for analysis \n",
    "sub_cat_features = ['NAME_FAMILY_STATUS','OCCUPATION_TYPE','CODE_GENDER','NAME_CONTRACT_TYPE','NAME_EDUCATION_TYPE',\n",
    "                    'NAME_HOUSING_TYPE']\n",
    "plt.figure(figsize = (20, 30))\n",
    "for i in enumerate(sub_cat_features):\n",
    "    plt.subplot(2, 3, i[0]+1)\n",
    "    splot = sns.countplot(x = i[1], hue = 'TARGET', data = application)\n",
    "    plt.xticks(rotation = 90)"
   ]
  },
  {
   "cell_type": "markdown",
   "metadata": {},
   "source": [
    "1. We can see from the above that most of the customers of the bank are Married (married and civil marriage cateogry). The second most customers are in the category single.\n",
    "2. Most of the customers of the bank are either laborers or sales staff.\n",
    "3. Most of the customers of the bank are females and comppared to female borrowers there is comparatively more payment difficulty in case of male borrowers.\n",
    "4. There are more cash loans as compared to revolving loans.\n",
    "5. Most of the customers with secondary/secondary special education or with higher education. However, there are very few customers with academic degree.\n",
    "6. Most of the customers are with Housing Type as House/Apartment"
   ]
  },
  {
   "cell_type": "code",
   "execution_count": 35,
   "metadata": {},
   "outputs": [
    {
     "data": {
      "image/png": "[encoded data removed]",
      "text/plain": [
       "<Figure size 1080x504 with 1 Axes>"
      ]
     },
     "metadata": {
      "needs_background": "light"
     },
     "output_type": "display_data"
    }
   ],
   "source": [
    "plt.figure(figsize = (15, 7))\n",
    "splot = sns.countplot(x = 'ORGANIZATION_TYPE', hue = 'TARGET', data = application)\n",
    "plt.xticks(rotation = 90)\n",
    "plt.show()"
   ]
  },
  {
   "cell_type": "markdown",
   "metadata": {},
   "source": [
    "#### As we can see that most of the customers of the bank are from Business Entity Type 3 organization type. There are many customers for which the organization type is not available with the bank. "
   ]
  },
  {
   "cell_type": "markdown",
   "metadata": {},
   "source": [
    "## Finding correlation between different columns of dataframes for Target 0 and 1 "
   ]
  },
  {
   "cell_type": "code",
   "execution_count": 36,
   "metadata": {
    "scrolled": true
   },
   "outputs": [
    {
     "data": {
      "text/plain": [
       "['DEF_60_CNT_SOCIAL_CIRCLE',\n",
       " 'AMT_REQ_CREDIT_BUREAU_WEEK',\n",
       " 'AMT_REQ_CREDIT_BUREAU_DAY',\n",
       " 'DEF_30_CNT_SOCIAL_CIRCLE',\n",
       " 'AMT_REQ_CREDIT_BUREAU_QRT',\n",
       " 'CNT_CHILDREN',\n",
       " 'CNT_FAM_MEMBERS',\n",
       " 'HOUR_APPR_PROCESS_START',\n",
       " 'AMT_REQ_CREDIT_BUREAU_MON',\n",
       " 'AMT_REQ_CREDIT_BUREAU_YEAR',\n",
       " 'FLOORSMAX_MODE',\n",
       " 'OBS_60_CNT_SOCIAL_CIRCLE',\n",
       " 'OBS_30_CNT_SOCIAL_CIRCLE',\n",
       " 'FLOORSMAX_MEDI',\n",
       " 'REGION_POPULATION_RELATIVE',\n",
       " 'YEARS_BEGINEXPLUATATION_MODE',\n",
       " 'YEARS_BEGINEXPLUATATION_MEDI',\n",
       " 'YEARS_BEGINEXPLUATATION_AVG',\n",
       " 'FLOORSMAX_AVG',\n",
       " 'EXT_SOURCE_3',\n",
       " 'AMT_GOODS_PRICE',\n",
       " 'AMT_INCOME_TOTAL',\n",
       " 'DAYS_LAST_PHONE_CHANGE',\n",
       " 'TOTALAREA_MODE',\n",
       " 'AMT_CREDIT',\n",
       " 'DAYS_ID_PUBLISH',\n",
       " 'DAYS_EMPLOYED',\n",
       " 'AMT_ANNUITY',\n",
       " 'DAYS_REGISTRATION',\n",
       " 'DAYS_BIRTH',\n",
       " 'EXT_SOURCE_2',\n",
       " 'SK_ID_CURR']"
      ]
     },
     "execution_count": 36,
     "metadata": {},
     "output_type": "execute_result"
    }
   ],
   "source": [
    "Payment_difficulty.shape\n",
    "numerical_features"
   ]
  },
  {
   "cell_type": "code",
   "execution_count": 37,
   "metadata": {},
   "outputs": [],
   "source": [
    "# Taking only necessary column for correlation column\n",
    "df_Payment_difficulty = ['DEF_60_CNT_SOCIAL_CIRCLE', 'DEF_30_CNT_SOCIAL_CIRCLE', 'CNT_CHILDREN', \n",
    "                        'HOUR_APPR_PROCESS_START', 'OBS_60_CNT_SOCIAL_CIRCLE','OBS_30_CNT_SOCIAL_CIRCLE', \n",
    "                        'REGION_POPULATION_RELATIVE','EXT_SOURCE_3','AMT_GOODS_PRICE', 'AMT_INCOME_TOTAL','AMT_CREDIT',\n",
    "                        'DAYS_ID_PUBLISH','DAYS_EMPLOYED','AMT_ANNUITY','DAYS_REGISTRATION','DAYS_BIRTH','EXT_SOURCE_2']\n",
    "                    "
   ]
  },
  {
   "cell_type": "code",
   "execution_count": 38,
   "metadata": {},
   "outputs": [
    {
     "data": {
      "text/html": [
       "<div>\n",
       "<style scoped>\n",
       "    .dataframe tbody tr th:only-of-type {\n",
       "        vertical-align: middle;\n",
       "    }\n",
       "\n",
       "    .dataframe tbody tr th {\n",
       "        vertical-align: top;\n",
       "    }\n",
       "\n",
       "    .dataframe thead th {\n",
       "        text-align: right;\n",
       "    }\n",
       "</style>\n",
       "<table border=\"1\" class=\"dataframe\">\n",
       "  <thead>\n",
       "    <tr style=\"text-align: right;\">\n",
       "      <th></th>\n",
       "      <th>VAR1</th>\n",
       "      <th>VAR2</th>\n",
       "      <th>Correlation</th>\n",
       "    </tr>\n",
       "  </thead>\n",
       "  <tbody>\n",
       "    <tr>\n",
       "      <th>0</th>\n",
       "      <td>DEF_60_CNT_SOCIAL_CIRCLE</td>\n",
       "      <td>DEF_60_CNT_SOCIAL_CIRCLE</td>\n",
       "      <td>nan</td>\n",
       "    </tr>\n",
       "    <tr>\n",
       "      <th>1</th>\n",
       "      <td>DEF_60_CNT_SOCIAL_CIRCLE</td>\n",
       "      <td>DEF_30_CNT_SOCIAL_CIRCLE</td>\n",
       "      <td>nan</td>\n",
       "    </tr>\n",
       "    <tr>\n",
       "      <th>2</th>\n",
       "      <td>DEF_60_CNT_SOCIAL_CIRCLE</td>\n",
       "      <td>CNT_CHILDREN</td>\n",
       "      <td>nan</td>\n",
       "    </tr>\n",
       "    <tr>\n",
       "      <th>3</th>\n",
       "      <td>DEF_60_CNT_SOCIAL_CIRCLE</td>\n",
       "      <td>HOUR_APPR_PROCESS_START</td>\n",
       "      <td>nan</td>\n",
       "    </tr>\n",
       "    <tr>\n",
       "      <th>4</th>\n",
       "      <td>DEF_60_CNT_SOCIAL_CIRCLE</td>\n",
       "      <td>OBS_60_CNT_SOCIAL_CIRCLE</td>\n",
       "      <td>nan</td>\n",
       "    </tr>\n",
       "  </tbody>\n",
       "</table>\n",
       "</div>"
      ],
      "text/plain": [
       "                       VAR1                      VAR2  Correlation\n",
       "0  DEF_60_CNT_SOCIAL_CIRCLE  DEF_60_CNT_SOCIAL_CIRCLE          nan\n",
       "1  DEF_60_CNT_SOCIAL_CIRCLE  DEF_30_CNT_SOCIAL_CIRCLE          nan\n",
       "2  DEF_60_CNT_SOCIAL_CIRCLE              CNT_CHILDREN          nan\n",
       "3  DEF_60_CNT_SOCIAL_CIRCLE   HOUR_APPR_PROCESS_START          nan\n",
       "4  DEF_60_CNT_SOCIAL_CIRCLE  OBS_60_CNT_SOCIAL_CIRCLE          nan"
      ]
     },
     "execution_count": 38,
     "metadata": {},
     "output_type": "execute_result"
    }
   ],
   "source": [
    "corr = Payment_difficulty[df_Payment_difficulty].corr()\n",
    "corr = corr.where(np.triu(np.ones(corr.shape), k=1).astype(np.bool))\n",
    "corrdf = corr.unstack().reset_index()\n",
    "corrdf.columns = ['VAR1', 'VAR2', 'Correlation']\n",
    "corrdf.head()"
   ]
  },
  {
   "cell_type": "code",
   "execution_count": 39,
   "metadata": {
    "scrolled": true
   },
   "outputs": [
    {
     "data": {
      "text/html": [
       "<div>\n",
       "<style scoped>\n",
       "    .dataframe tbody tr th:only-of-type {\n",
       "        vertical-align: middle;\n",
       "    }\n",
       "\n",
       "    .dataframe tbody tr th {\n",
       "        vertical-align: top;\n",
       "    }\n",
       "\n",
       "    .dataframe thead th {\n",
       "        text-align: right;\n",
       "    }\n",
       "</style>\n",
       "<table border=\"1\" class=\"dataframe\">\n",
       "  <thead>\n",
       "    <tr style=\"text-align: right;\">\n",
       "      <th></th>\n",
       "      <th>VAR1</th>\n",
       "      <th>VAR2</th>\n",
       "      <th>Correlation</th>\n",
       "    </tr>\n",
       "  </thead>\n",
       "  <tbody>\n",
       "    <tr>\n",
       "      <th>89</th>\n",
       "      <td>OBS_30_CNT_SOCIAL_CIRCLE</td>\n",
       "      <td>OBS_60_CNT_SOCIAL_CIRCLE</td>\n",
       "      <td>1.000000</td>\n",
       "    </tr>\n",
       "    <tr>\n",
       "      <th>178</th>\n",
       "      <td>AMT_CREDIT</td>\n",
       "      <td>AMT_GOODS_PRICE</td>\n",
       "      <td>0.980000</td>\n",
       "    </tr>\n",
       "    <tr>\n",
       "      <th>17</th>\n",
       "      <td>DEF_30_CNT_SOCIAL_CIRCLE</td>\n",
       "      <td>DEF_60_CNT_SOCIAL_CIRCLE</td>\n",
       "      <td>0.870000</td>\n",
       "    </tr>\n",
       "    <tr>\n",
       "      <th>231</th>\n",
       "      <td>AMT_ANNUITY</td>\n",
       "      <td>AMT_CREDIT</td>\n",
       "      <td>0.750000</td>\n",
       "    </tr>\n",
       "    <tr>\n",
       "      <th>229</th>\n",
       "      <td>AMT_ANNUITY</td>\n",
       "      <td>AMT_GOODS_PRICE</td>\n",
       "      <td>0.750000</td>\n",
       "    </tr>\n",
       "    <tr>\n",
       "      <th>267</th>\n",
       "      <td>DAYS_BIRTH</td>\n",
       "      <td>DAYS_EMPLOYED</td>\n",
       "      <td>0.580000</td>\n",
       "    </tr>\n",
       "    <tr>\n",
       "      <th>69</th>\n",
       "      <td>OBS_60_CNT_SOCIAL_CIRCLE</td>\n",
       "      <td>DEF_30_CNT_SOCIAL_CIRCLE</td>\n",
       "      <td>0.340000</td>\n",
       "    </tr>\n",
       "    <tr>\n",
       "      <th>86</th>\n",
       "      <td>OBS_30_CNT_SOCIAL_CIRCLE</td>\n",
       "      <td>DEF_30_CNT_SOCIAL_CIRCLE</td>\n",
       "      <td>0.330000</td>\n",
       "    </tr>\n",
       "    <tr>\n",
       "      <th>269</th>\n",
       "      <td>DAYS_BIRTH</td>\n",
       "      <td>DAYS_REGISTRATION</td>\n",
       "      <td>0.290000</td>\n",
       "    </tr>\n",
       "    <tr>\n",
       "      <th>257</th>\n",
       "      <td>DAYS_BIRTH</td>\n",
       "      <td>CNT_CHILDREN</td>\n",
       "      <td>0.260000</td>\n",
       "    </tr>\n",
       "    <tr>\n",
       "      <th>68</th>\n",
       "      <td>OBS_60_CNT_SOCIAL_CIRCLE</td>\n",
       "      <td>DEF_60_CNT_SOCIAL_CIRCLE</td>\n",
       "      <td>0.260000</td>\n",
       "    </tr>\n",
       "    <tr>\n",
       "      <th>85</th>\n",
       "      <td>OBS_30_CNT_SOCIAL_CIRCLE</td>\n",
       "      <td>DEF_60_CNT_SOCIAL_CIRCLE</td>\n",
       "      <td>0.260000</td>\n",
       "    </tr>\n",
       "    <tr>\n",
       "      <th>266</th>\n",
       "      <td>DAYS_BIRTH</td>\n",
       "      <td>DAYS_ID_PUBLISH</td>\n",
       "      <td>0.250000</td>\n",
       "    </tr>\n",
       "    <tr>\n",
       "      <th>215</th>\n",
       "      <td>DAYS_EMPLOYED</td>\n",
       "      <td>DAYS_ID_PUBLISH</td>\n",
       "      <td>0.230000</td>\n",
       "    </tr>\n",
       "    <tr>\n",
       "      <th>250</th>\n",
       "      <td>DAYS_REGISTRATION</td>\n",
       "      <td>DAYS_EMPLOYED</td>\n",
       "      <td>0.190000</td>\n",
       "    </tr>\n",
       "    <tr>\n",
       "      <th>206</th>\n",
       "      <td>DAYS_EMPLOYED</td>\n",
       "      <td>CNT_CHILDREN</td>\n",
       "      <td>0.190000</td>\n",
       "    </tr>\n",
       "    <tr>\n",
       "      <th>262</th>\n",
       "      <td>DAYS_BIRTH</td>\n",
       "      <td>EXT_SOURCE_3</td>\n",
       "      <td>0.170000</td>\n",
       "    </tr>\n",
       "    <tr>\n",
       "      <th>278</th>\n",
       "      <td>EXT_SOURCE_2</td>\n",
       "      <td>REGION_POPULATION_RELATIVE</td>\n",
       "      <td>0.170000</td>\n",
       "    </tr>\n",
       "    <tr>\n",
       "      <th>240</th>\n",
       "      <td>DAYS_REGISTRATION</td>\n",
       "      <td>CNT_CHILDREN</td>\n",
       "      <td>0.150000</td>\n",
       "    </tr>\n",
       "    <tr>\n",
       "      <th>265</th>\n",
       "      <td>DAYS_BIRTH</td>\n",
       "      <td>AMT_CREDIT</td>\n",
       "      <td>0.140000</td>\n",
       "    </tr>\n",
       "  </tbody>\n",
       "</table>\n",
       "</div>"
      ],
      "text/plain": [
       "                         VAR1                        VAR2  Correlation\n",
       "89   OBS_30_CNT_SOCIAL_CIRCLE    OBS_60_CNT_SOCIAL_CIRCLE     1.000000\n",
       "178                AMT_CREDIT             AMT_GOODS_PRICE     0.980000\n",
       "17   DEF_30_CNT_SOCIAL_CIRCLE    DEF_60_CNT_SOCIAL_CIRCLE     0.870000\n",
       "231               AMT_ANNUITY                  AMT_CREDIT     0.750000\n",
       "229               AMT_ANNUITY             AMT_GOODS_PRICE     0.750000\n",
       "267                DAYS_BIRTH               DAYS_EMPLOYED     0.580000\n",
       "69   OBS_60_CNT_SOCIAL_CIRCLE    DEF_30_CNT_SOCIAL_CIRCLE     0.340000\n",
       "86   OBS_30_CNT_SOCIAL_CIRCLE    DEF_30_CNT_SOCIAL_CIRCLE     0.330000\n",
       "269                DAYS_BIRTH           DAYS_REGISTRATION     0.290000\n",
       "257                DAYS_BIRTH                CNT_CHILDREN     0.260000\n",
       "68   OBS_60_CNT_SOCIAL_CIRCLE    DEF_60_CNT_SOCIAL_CIRCLE     0.260000\n",
       "85   OBS_30_CNT_SOCIAL_CIRCLE    DEF_60_CNT_SOCIAL_CIRCLE     0.260000\n",
       "266                DAYS_BIRTH             DAYS_ID_PUBLISH     0.250000\n",
       "215             DAYS_EMPLOYED             DAYS_ID_PUBLISH     0.230000\n",
       "250         DAYS_REGISTRATION               DAYS_EMPLOYED     0.190000\n",
       "206             DAYS_EMPLOYED                CNT_CHILDREN     0.190000\n",
       "262                DAYS_BIRTH                EXT_SOURCE_3     0.170000\n",
       "278              EXT_SOURCE_2  REGION_POPULATION_RELATIVE     0.170000\n",
       "240         DAYS_REGISTRATION                CNT_CHILDREN     0.150000\n",
       "265                DAYS_BIRTH                  AMT_CREDIT     0.140000"
      ]
     },
     "execution_count": 39,
     "metadata": {},
     "output_type": "execute_result"
    }
   ],
   "source": [
    "corrdf.dropna(subset = ['Correlation'], inplace = True)\n",
    "corrdf['Correlation'] = round(corrdf['Correlation'], 2)\n",
    "# Since we see correlation as an absolute value, we are converting it into absolute value\n",
    "corrdf['Correlation'] = corrdf['Correlation'].abs()\n",
    "corrdf.sort_values(by = 'Correlation', ascending = False).head(20)"
   ]
  },
  {
   "cell_type": "markdown",
   "metadata": {},
   "source": [
    "So from above correlation we can easily conclude that :\n",
    "    1. There is a strong correlation between amt_credit and amt_good_price\n",
    "    2. There is a strong correlaion between amt_annuity and Amt_credit\n",
    "    3. There is  correlation between days_birth and Day_employed, that means a person with more age will have more work experience."
   ]
  },
  {
   "cell_type": "code",
   "execution_count": 40,
   "metadata": {
    "scrolled": true
   },
   "outputs": [
    {
     "data": {
      "text/html": [
       "<div>\n",
       "<style scoped>\n",
       "    .dataframe tbody tr th:only-of-type {\n",
       "        vertical-align: middle;\n",
       "    }\n",
       "\n",
       "    .dataframe tbody tr th {\n",
       "        vertical-align: top;\n",
       "    }\n",
       "\n",
       "    .dataframe thead th {\n",
       "        text-align: right;\n",
       "    }\n",
       "</style>\n",
       "<table border=\"1\" class=\"dataframe\">\n",
       "  <thead>\n",
       "    <tr style=\"text-align: right;\">\n",
       "      <th></th>\n",
       "      <th>VAR1</th>\n",
       "      <th>VAR2</th>\n",
       "      <th>Correlation</th>\n",
       "    </tr>\n",
       "  </thead>\n",
       "  <tbody>\n",
       "    <tr>\n",
       "      <th>107</th>\n",
       "      <td>REGION_POPULATION_RELATIVE</td>\n",
       "      <td>OBS_30_CNT_SOCIAL_CIRCLE</td>\n",
       "      <td>0.010000</td>\n",
       "    </tr>\n",
       "    <tr>\n",
       "      <th>213</th>\n",
       "      <td>DAYS_EMPLOYED</td>\n",
       "      <td>AMT_INCOME_TOTAL</td>\n",
       "      <td>0.010000</td>\n",
       "    </tr>\n",
       "    <tr>\n",
       "      <th>88</th>\n",
       "      <td>OBS_30_CNT_SOCIAL_CIRCLE</td>\n",
       "      <td>HOUR_APPR_PROCESS_START</td>\n",
       "      <td>0.010000</td>\n",
       "    </tr>\n",
       "    <tr>\n",
       "      <th>188</th>\n",
       "      <td>DAYS_ID_PUBLISH</td>\n",
       "      <td>DEF_30_CNT_SOCIAL_CIRCLE</td>\n",
       "      <td>0.010000</td>\n",
       "    </tr>\n",
       "    <tr>\n",
       "      <th>225</th>\n",
       "      <td>AMT_ANNUITY</td>\n",
       "      <td>OBS_60_CNT_SOCIAL_CIRCLE</td>\n",
       "      <td>0.010000</td>\n",
       "    </tr>\n",
       "    <tr>\n",
       "      <th>119</th>\n",
       "      <td>EXT_SOURCE_3</td>\n",
       "      <td>DEF_60_CNT_SOCIAL_CIRCLE</td>\n",
       "      <td>0.010000</td>\n",
       "    </tr>\n",
       "    <tr>\n",
       "      <th>71</th>\n",
       "      <td>OBS_60_CNT_SOCIAL_CIRCLE</td>\n",
       "      <td>HOUR_APPR_PROCESS_START</td>\n",
       "      <td>0.010000</td>\n",
       "    </tr>\n",
       "    <tr>\n",
       "      <th>239</th>\n",
       "      <td>DAYS_REGISTRATION</td>\n",
       "      <td>DEF_30_CNT_SOCIAL_CIRCLE</td>\n",
       "      <td>0.010000</td>\n",
       "    </tr>\n",
       "    <tr>\n",
       "      <th>242</th>\n",
       "      <td>DAYS_REGISTRATION</td>\n",
       "      <td>OBS_60_CNT_SOCIAL_CIRCLE</td>\n",
       "      <td>0.010000</td>\n",
       "    </tr>\n",
       "    <tr>\n",
       "      <th>243</th>\n",
       "      <td>DAYS_REGISTRATION</td>\n",
       "      <td>OBS_30_CNT_SOCIAL_CIRCLE</td>\n",
       "      <td>0.010000</td>\n",
       "    </tr>\n",
       "    <tr>\n",
       "      <th>268</th>\n",
       "      <td>DAYS_BIRTH</td>\n",
       "      <td>AMT_ANNUITY</td>\n",
       "      <td>0.010000</td>\n",
       "    </tr>\n",
       "    <tr>\n",
       "      <th>284</th>\n",
       "      <td>EXT_SOURCE_2</td>\n",
       "      <td>DAYS_EMPLOYED</td>\n",
       "      <td>0.000000</td>\n",
       "    </tr>\n",
       "    <tr>\n",
       "      <th>35</th>\n",
       "      <td>CNT_CHILDREN</td>\n",
       "      <td>DEF_30_CNT_SOCIAL_CIRCLE</td>\n",
       "      <td>0.000000</td>\n",
       "    </tr>\n",
       "    <tr>\n",
       "      <th>157</th>\n",
       "      <td>AMT_INCOME_TOTAL</td>\n",
       "      <td>OBS_60_CNT_SOCIAL_CIRCLE</td>\n",
       "      <td>0.000000</td>\n",
       "    </tr>\n",
       "    <tr>\n",
       "      <th>51</th>\n",
       "      <td>HOUR_APPR_PROCESS_START</td>\n",
       "      <td>DEF_60_CNT_SOCIAL_CIRCLE</td>\n",
       "      <td>0.000000</td>\n",
       "    </tr>\n",
       "    <tr>\n",
       "      <th>52</th>\n",
       "      <td>HOUR_APPR_PROCESS_START</td>\n",
       "      <td>DEF_30_CNT_SOCIAL_CIRCLE</td>\n",
       "      <td>0.000000</td>\n",
       "    </tr>\n",
       "    <tr>\n",
       "      <th>264</th>\n",
       "      <td>DAYS_BIRTH</td>\n",
       "      <td>AMT_INCOME_TOTAL</td>\n",
       "      <td>0.000000</td>\n",
       "    </tr>\n",
       "    <tr>\n",
       "      <th>256</th>\n",
       "      <td>DAYS_BIRTH</td>\n",
       "      <td>DEF_30_CNT_SOCIAL_CIRCLE</td>\n",
       "      <td>0.000000</td>\n",
       "    </tr>\n",
       "    <tr>\n",
       "      <th>255</th>\n",
       "      <td>DAYS_BIRTH</td>\n",
       "      <td>DEF_60_CNT_SOCIAL_CIRCLE</td>\n",
       "      <td>0.000000</td>\n",
       "    </tr>\n",
       "    <tr>\n",
       "      <th>153</th>\n",
       "      <td>AMT_INCOME_TOTAL</td>\n",
       "      <td>DEF_60_CNT_SOCIAL_CIRCLE</td>\n",
       "      <td>0.000000</td>\n",
       "    </tr>\n",
       "    <tr>\n",
       "      <th>155</th>\n",
       "      <td>AMT_INCOME_TOTAL</td>\n",
       "      <td>CNT_CHILDREN</td>\n",
       "      <td>0.000000</td>\n",
       "    </tr>\n",
       "    <tr>\n",
       "      <th>247</th>\n",
       "      <td>DAYS_REGISTRATION</td>\n",
       "      <td>AMT_INCOME_TOTAL</td>\n",
       "      <td>0.000000</td>\n",
       "    </tr>\n",
       "    <tr>\n",
       "      <th>196</th>\n",
       "      <td>DAYS_ID_PUBLISH</td>\n",
       "      <td>AMT_INCOME_TOTAL</td>\n",
       "      <td>0.000000</td>\n",
       "    </tr>\n",
       "    <tr>\n",
       "      <th>158</th>\n",
       "      <td>AMT_INCOME_TOTAL</td>\n",
       "      <td>OBS_30_CNT_SOCIAL_CIRCLE</td>\n",
       "      <td>0.000000</td>\n",
       "    </tr>\n",
       "    <tr>\n",
       "      <th>172</th>\n",
       "      <td>AMT_CREDIT</td>\n",
       "      <td>CNT_CHILDREN</td>\n",
       "      <td>0.000000</td>\n",
       "    </tr>\n",
       "    <tr>\n",
       "      <th>226</th>\n",
       "      <td>AMT_ANNUITY</td>\n",
       "      <td>OBS_30_CNT_SOCIAL_CIRCLE</td>\n",
       "      <td>0.000000</td>\n",
       "    </tr>\n",
       "    <tr>\n",
       "      <th>187</th>\n",
       "      <td>DAYS_ID_PUBLISH</td>\n",
       "      <td>DEF_60_CNT_SOCIAL_CIRCLE</td>\n",
       "      <td>0.000000</td>\n",
       "    </tr>\n",
       "    <tr>\n",
       "      <th>212</th>\n",
       "      <td>DAYS_EMPLOYED</td>\n",
       "      <td>AMT_GOODS_PRICE</td>\n",
       "      <td>0.000000</td>\n",
       "    </tr>\n",
       "    <tr>\n",
       "      <th>205</th>\n",
       "      <td>DAYS_EMPLOYED</td>\n",
       "      <td>DEF_30_CNT_SOCIAL_CIRCLE</td>\n",
       "      <td>0.000000</td>\n",
       "    </tr>\n",
       "    <tr>\n",
       "      <th>214</th>\n",
       "      <td>DAYS_EMPLOYED</td>\n",
       "      <td>AMT_CREDIT</td>\n",
       "      <td>0.000000</td>\n",
       "    </tr>\n",
       "  </tbody>\n",
       "</table>\n",
       "</div>"
      ],
      "text/plain": [
       "                           VAR1                      VAR2  Correlation\n",
       "107  REGION_POPULATION_RELATIVE  OBS_30_CNT_SOCIAL_CIRCLE     0.010000\n",
       "213               DAYS_EMPLOYED          AMT_INCOME_TOTAL     0.010000\n",
       "88     OBS_30_CNT_SOCIAL_CIRCLE   HOUR_APPR_PROCESS_START     0.010000\n",
       "188             DAYS_ID_PUBLISH  DEF_30_CNT_SOCIAL_CIRCLE     0.010000\n",
       "225                 AMT_ANNUITY  OBS_60_CNT_SOCIAL_CIRCLE     0.010000\n",
       "119                EXT_SOURCE_3  DEF_60_CNT_SOCIAL_CIRCLE     0.010000\n",
       "71     OBS_60_CNT_SOCIAL_CIRCLE   HOUR_APPR_PROCESS_START     0.010000\n",
       "239           DAYS_REGISTRATION  DEF_30_CNT_SOCIAL_CIRCLE     0.010000\n",
       "242           DAYS_REGISTRATION  OBS_60_CNT_SOCIAL_CIRCLE     0.010000\n",
       "243           DAYS_REGISTRATION  OBS_30_CNT_SOCIAL_CIRCLE     0.010000\n",
       "268                  DAYS_BIRTH               AMT_ANNUITY     0.010000\n",
       "284                EXT_SOURCE_2             DAYS_EMPLOYED     0.000000\n",
       "35                 CNT_CHILDREN  DEF_30_CNT_SOCIAL_CIRCLE     0.000000\n",
       "157            AMT_INCOME_TOTAL  OBS_60_CNT_SOCIAL_CIRCLE     0.000000\n",
       "51      HOUR_APPR_PROCESS_START  DEF_60_CNT_SOCIAL_CIRCLE     0.000000\n",
       "52      HOUR_APPR_PROCESS_START  DEF_30_CNT_SOCIAL_CIRCLE     0.000000\n",
       "264                  DAYS_BIRTH          AMT_INCOME_TOTAL     0.000000\n",
       "256                  DAYS_BIRTH  DEF_30_CNT_SOCIAL_CIRCLE     0.000000\n",
       "255                  DAYS_BIRTH  DEF_60_CNT_SOCIAL_CIRCLE     0.000000\n",
       "153            AMT_INCOME_TOTAL  DEF_60_CNT_SOCIAL_CIRCLE     0.000000\n",
       "155            AMT_INCOME_TOTAL              CNT_CHILDREN     0.000000\n",
       "247           DAYS_REGISTRATION          AMT_INCOME_TOTAL     0.000000\n",
       "196             DAYS_ID_PUBLISH          AMT_INCOME_TOTAL     0.000000\n",
       "158            AMT_INCOME_TOTAL  OBS_30_CNT_SOCIAL_CIRCLE     0.000000\n",
       "172                  AMT_CREDIT              CNT_CHILDREN     0.000000\n",
       "226                 AMT_ANNUITY  OBS_30_CNT_SOCIAL_CIRCLE     0.000000\n",
       "187             DAYS_ID_PUBLISH  DEF_60_CNT_SOCIAL_CIRCLE     0.000000\n",
       "212               DAYS_EMPLOYED           AMT_GOODS_PRICE     0.000000\n",
       "205               DAYS_EMPLOYED  DEF_30_CNT_SOCIAL_CIRCLE     0.000000\n",
       "214               DAYS_EMPLOYED                AMT_CREDIT     0.000000"
      ]
     },
     "execution_count": 40,
     "metadata": {},
     "output_type": "execute_result"
    }
   ],
   "source": [
    "corrdf.sort_values(by = 'Correlation', ascending = False).tail(30)"
   ]
  },
  {
   "cell_type": "markdown",
   "metadata": {},
   "source": [
    "So from above correlation we can easily conclude that :\n",
    "1. There is a very weak correlation between days_employed and amt_income_total, this shows that experience have little impact on salary intake.\n",
    "2. There is weak correlation between Days_birth and AMT_annuity, this shows that credit amount decrease with increase in age\n",
    "2. There is a strong correlaion between amt_annuity and Amt_credit\n",
    "3. There is  correlation between days_birth and Day_employed, that means a person with more age will have more work experience."
   ]
  },
  {
   "cell_type": "markdown",
   "metadata": {},
   "source": [
    "### Correlation Analysis for No payment difficulty "
   ]
  },
  {
   "cell_type": "code",
   "execution_count": 41,
   "metadata": {
    "scrolled": true
   },
   "outputs": [
    {
     "data": {
      "text/html": [
       "<div>\n",
       "<style scoped>\n",
       "    .dataframe tbody tr th:only-of-type {\n",
       "        vertical-align: middle;\n",
       "    }\n",
       "\n",
       "    .dataframe tbody tr th {\n",
       "        vertical-align: top;\n",
       "    }\n",
       "\n",
       "    .dataframe thead th {\n",
       "        text-align: right;\n",
       "    }\n",
       "</style>\n",
       "<table border=\"1\" class=\"dataframe\">\n",
       "  <thead>\n",
       "    <tr style=\"text-align: right;\">\n",
       "      <th></th>\n",
       "      <th>VAR1</th>\n",
       "      <th>VAR2</th>\n",
       "      <th>Correlation</th>\n",
       "    </tr>\n",
       "  </thead>\n",
       "  <tbody>\n",
       "    <tr>\n",
       "      <th>0</th>\n",
       "      <td>SK_ID_CURR</td>\n",
       "      <td>SK_ID_CURR</td>\n",
       "      <td>nan</td>\n",
       "    </tr>\n",
       "    <tr>\n",
       "      <th>1</th>\n",
       "      <td>SK_ID_CURR</td>\n",
       "      <td>TARGET</td>\n",
       "      <td>nan</td>\n",
       "    </tr>\n",
       "    <tr>\n",
       "      <th>2</th>\n",
       "      <td>SK_ID_CURR</td>\n",
       "      <td>CNT_CHILDREN</td>\n",
       "      <td>nan</td>\n",
       "    </tr>\n",
       "    <tr>\n",
       "      <th>3</th>\n",
       "      <td>SK_ID_CURR</td>\n",
       "      <td>AMT_INCOME_TOTAL</td>\n",
       "      <td>nan</td>\n",
       "    </tr>\n",
       "    <tr>\n",
       "      <th>4</th>\n",
       "      <td>SK_ID_CURR</td>\n",
       "      <td>AMT_CREDIT</td>\n",
       "      <td>nan</td>\n",
       "    </tr>\n",
       "  </tbody>\n",
       "</table>\n",
       "</div>"
      ],
      "text/plain": [
       "         VAR1              VAR2  Correlation\n",
       "0  SK_ID_CURR        SK_ID_CURR          nan\n",
       "1  SK_ID_CURR            TARGET          nan\n",
       "2  SK_ID_CURR      CNT_CHILDREN          nan\n",
       "3  SK_ID_CURR  AMT_INCOME_TOTAL          nan\n",
       "4  SK_ID_CURR        AMT_CREDIT          nan"
      ]
     },
     "execution_count": 41,
     "metadata": {},
     "output_type": "execute_result"
    }
   ],
   "source": [
    "corr = No_Payment_Difficulty.corr()\n",
    "corr = corr.where(np.triu(np.ones(corr.shape), k=1).astype(np.bool))\n",
    "corrdf = corr.unstack().reset_index()\n",
    "corrdf.columns = ['VAR1', 'VAR2', 'Correlation']\n",
    "corrdf.head()"
   ]
  },
  {
   "cell_type": "code",
   "execution_count": 42,
   "metadata": {
    "scrolled": false
   },
   "outputs": [
    {
     "data": {
      "text/html": [
       "<div>\n",
       "<style scoped>\n",
       "    .dataframe tbody tr th:only-of-type {\n",
       "        vertical-align: middle;\n",
       "    }\n",
       "\n",
       "    .dataframe tbody tr th {\n",
       "        vertical-align: top;\n",
       "    }\n",
       "\n",
       "    .dataframe thead th {\n",
       "        text-align: right;\n",
       "    }\n",
       "</style>\n",
       "<table border=\"1\" class=\"dataframe\">\n",
       "  <thead>\n",
       "    <tr style=\"text-align: right;\">\n",
       "      <th></th>\n",
       "      <th>VAR1</th>\n",
       "      <th>VAR2</th>\n",
       "      <th>Correlation</th>\n",
       "    </tr>\n",
       "  </thead>\n",
       "  <tbody>\n",
       "    <tr>\n",
       "      <th>893</th>\n",
       "      <td>FLAG_EMP_PHONE</td>\n",
       "      <td>DAYS_EMPLOYED</td>\n",
       "      <td>1.000000</td>\n",
       "    </tr>\n",
       "    <tr>\n",
       "      <th>2411</th>\n",
       "      <td>FLOORSMAX_MEDI</td>\n",
       "      <td>FLOORSMAX_AVG</td>\n",
       "      <td>1.000000</td>\n",
       "    </tr>\n",
       "    <tr>\n",
       "      <th>2689</th>\n",
       "      <td>OBS_60_CNT_SOCIAL_CIRCLE</td>\n",
       "      <td>OBS_30_CNT_SOCIAL_CIRCLE</td>\n",
       "      <td>1.000000</td>\n",
       "    </tr>\n",
       "    <tr>\n",
       "      <th>2342</th>\n",
       "      <td>YEARS_BEGINEXPLUATATION_MEDI</td>\n",
       "      <td>YEARS_BEGINEXPLUATATION_AVG</td>\n",
       "      <td>0.990000</td>\n",
       "    </tr>\n",
       "    <tr>\n",
       "      <th>2413</th>\n",
       "      <td>FLOORSMAX_MEDI</td>\n",
       "      <td>FLOORSMAX_MODE</td>\n",
       "      <td>0.990000</td>\n",
       "    </tr>\n",
       "    <tr>\n",
       "      <th>2275</th>\n",
       "      <td>FLOORSMAX_MODE</td>\n",
       "      <td>FLOORSMAX_AVG</td>\n",
       "      <td>0.990000</td>\n",
       "    </tr>\n",
       "    <tr>\n",
       "      <th>412</th>\n",
       "      <td>AMT_GOODS_PRICE</td>\n",
       "      <td>AMT_CREDIT</td>\n",
       "      <td>0.990000</td>\n",
       "    </tr>\n",
       "    <tr>\n",
       "      <th>2206</th>\n",
       "      <td>YEARS_BEGINEXPLUATATION_MODE</td>\n",
       "      <td>YEARS_BEGINEXPLUATATION_AVG</td>\n",
       "      <td>0.970000</td>\n",
       "    </tr>\n",
       "    <tr>\n",
       "      <th>2344</th>\n",
       "      <td>YEARS_BEGINEXPLUATATION_MEDI</td>\n",
       "      <td>YEARS_BEGINEXPLUATATION_MODE</td>\n",
       "      <td>0.960000</td>\n",
       "    </tr>\n",
       "    <tr>\n",
       "      <th>1379</th>\n",
       "      <td>REGION_RATING_CLIENT_W_CITY</td>\n",
       "      <td>REGION_RATING_CLIENT</td>\n",
       "      <td>0.950000</td>\n",
       "    </tr>\n",
       "  </tbody>\n",
       "</table>\n",
       "</div>"
      ],
      "text/plain": [
       "                              VAR1                          VAR2  Correlation\n",
       "893                 FLAG_EMP_PHONE                 DAYS_EMPLOYED     1.000000\n",
       "2411                FLOORSMAX_MEDI                 FLOORSMAX_AVG     1.000000\n",
       "2689      OBS_60_CNT_SOCIAL_CIRCLE      OBS_30_CNT_SOCIAL_CIRCLE     1.000000\n",
       "2342  YEARS_BEGINEXPLUATATION_MEDI   YEARS_BEGINEXPLUATATION_AVG     0.990000\n",
       "2413                FLOORSMAX_MEDI                FLOORSMAX_MODE     0.990000\n",
       "2275                FLOORSMAX_MODE                 FLOORSMAX_AVG     0.990000\n",
       "412                AMT_GOODS_PRICE                    AMT_CREDIT     0.990000\n",
       "2206  YEARS_BEGINEXPLUATATION_MODE   YEARS_BEGINEXPLUATATION_AVG     0.970000\n",
       "2344  YEARS_BEGINEXPLUATATION_MEDI  YEARS_BEGINEXPLUATATION_MODE     0.960000\n",
       "1379   REGION_RATING_CLIENT_W_CITY          REGION_RATING_CLIENT     0.950000"
      ]
     },
     "execution_count": 42,
     "metadata": {},
     "output_type": "execute_result"
    }
   ],
   "source": [
    "corrdf.dropna(subset = ['Correlation'], inplace = True)\n",
    "corrdf['Correlation'] = round(corrdf['Correlation'], 2)\n",
    "# Since we see correlation as an absolute value, we are converting it into absolute value\n",
    "corrdf['Correlation'] = corrdf['Correlation'].abs()\n",
    "corrdf.sort_values(by = 'Correlation', ascending = False).head(10)"
   ]
  },
  {
   "cell_type": "markdown",
   "metadata": {},
   "source": [
    "So from above correlation we can easily conclude that :\n",
    "1. There is a strong correlation between amt_credit and amt_good_price\n",
    "2. There is a correlaion between amt_annuity and Amt_credit\n",
    "3. There is  correlation between days_birth and Day_employed, that means a person with more age will have more work experience."
   ]
  },
  {
   "cell_type": "code",
   "execution_count": 43,
   "metadata": {},
   "outputs": [
    {
     "data": {
      "text/html": [
       "<div>\n",
       "<style scoped>\n",
       "    .dataframe tbody tr th:only-of-type {\n",
       "        vertical-align: middle;\n",
       "    }\n",
       "\n",
       "    .dataframe tbody tr th {\n",
       "        vertical-align: top;\n",
       "    }\n",
       "\n",
       "    .dataframe thead th {\n",
       "        text-align: right;\n",
       "    }\n",
       "</style>\n",
       "<table border=\"1\" class=\"dataframe\">\n",
       "  <thead>\n",
       "    <tr style=\"text-align: right;\">\n",
       "      <th></th>\n",
       "      <th>VAR1</th>\n",
       "      <th>VAR2</th>\n",
       "      <th>Correlation</th>\n",
       "    </tr>\n",
       "  </thead>\n",
       "  <tbody>\n",
       "    <tr>\n",
       "      <th>3540</th>\n",
       "      <td>FLAG_DOCUMENT_12</td>\n",
       "      <td>AMT_CREDIT</td>\n",
       "      <td>0.000000</td>\n",
       "    </tr>\n",
       "    <tr>\n",
       "      <th>3538</th>\n",
       "      <td>FLAG_DOCUMENT_12</td>\n",
       "      <td>CNT_CHILDREN</td>\n",
       "      <td>0.000000</td>\n",
       "    </tr>\n",
       "    <tr>\n",
       "      <th>3536</th>\n",
       "      <td>FLAG_DOCUMENT_12</td>\n",
       "      <td>SK_ID_CURR</td>\n",
       "      <td>0.000000</td>\n",
       "    </tr>\n",
       "    <tr>\n",
       "      <th>3517</th>\n",
       "      <td>FLAG_DOCUMENT_11</td>\n",
       "      <td>FLAG_DOCUMENT_9</td>\n",
       "      <td>0.000000</td>\n",
       "    </tr>\n",
       "    <tr>\n",
       "      <th>3545</th>\n",
       "      <td>FLAG_DOCUMENT_12</td>\n",
       "      <td>DAYS_EMPLOYED</td>\n",
       "      <td>0.000000</td>\n",
       "    </tr>\n",
       "    <tr>\n",
       "      <th>3515</th>\n",
       "      <td>FLAG_DOCUMENT_11</td>\n",
       "      <td>FLAG_DOCUMENT_7</td>\n",
       "      <td>0.000000</td>\n",
       "    </tr>\n",
       "    <tr>\n",
       "      <th>3512</th>\n",
       "      <td>FLAG_DOCUMENT_11</td>\n",
       "      <td>FLAG_DOCUMENT_4</td>\n",
       "      <td>0.000000</td>\n",
       "    </tr>\n",
       "    <tr>\n",
       "      <th>3510</th>\n",
       "      <td>FLAG_DOCUMENT_11</td>\n",
       "      <td>FLAG_DOCUMENT_2</td>\n",
       "      <td>0.000000</td>\n",
       "    </tr>\n",
       "    <tr>\n",
       "      <th>1440</th>\n",
       "      <td>HOUR_APPR_PROCESS_START</td>\n",
       "      <td>FLAG_MOBIL</td>\n",
       "      <td>0.000000</td>\n",
       "    </tr>\n",
       "    <tr>\n",
       "      <th>3508</th>\n",
       "      <td>FLAG_DOCUMENT_11</td>\n",
       "      <td>DEF_60_CNT_SOCIAL_CIRCLE</td>\n",
       "      <td>0.000000</td>\n",
       "    </tr>\n",
       "    <tr>\n",
       "      <th>3507</th>\n",
       "      <td>FLAG_DOCUMENT_11</td>\n",
       "      <td>OBS_60_CNT_SOCIAL_CIRCLE</td>\n",
       "      <td>0.000000</td>\n",
       "    </tr>\n",
       "    <tr>\n",
       "      <th>3544</th>\n",
       "      <td>FLAG_DOCUMENT_12</td>\n",
       "      <td>DAYS_BIRTH</td>\n",
       "      <td>0.000000</td>\n",
       "    </tr>\n",
       "    <tr>\n",
       "      <th>3546</th>\n",
       "      <td>FLAG_DOCUMENT_12</td>\n",
       "      <td>DAYS_REGISTRATION</td>\n",
       "      <td>0.000000</td>\n",
       "    </tr>\n",
       "    <tr>\n",
       "      <th>3562</th>\n",
       "      <td>FLAG_DOCUMENT_12</td>\n",
       "      <td>REG_CITY_NOT_WORK_CITY</td>\n",
       "      <td>0.000000</td>\n",
       "    </tr>\n",
       "    <tr>\n",
       "      <th>3555</th>\n",
       "      <td>FLAG_DOCUMENT_12</td>\n",
       "      <td>REGION_RATING_CLIENT</td>\n",
       "      <td>0.000000</td>\n",
       "    </tr>\n",
       "    <tr>\n",
       "      <th>3561</th>\n",
       "      <td>FLAG_DOCUMENT_12</td>\n",
       "      <td>REG_CITY_NOT_LIVE_CITY</td>\n",
       "      <td>0.000000</td>\n",
       "    </tr>\n",
       "    <tr>\n",
       "      <th>3560</th>\n",
       "      <td>FLAG_DOCUMENT_12</td>\n",
       "      <td>LIVE_REGION_NOT_WORK_REGION</td>\n",
       "      <td>0.000000</td>\n",
       "    </tr>\n",
       "    <tr>\n",
       "      <th>3559</th>\n",
       "      <td>FLAG_DOCUMENT_12</td>\n",
       "      <td>REG_REGION_NOT_WORK_REGION</td>\n",
       "      <td>0.000000</td>\n",
       "    </tr>\n",
       "    <tr>\n",
       "      <th>3558</th>\n",
       "      <td>FLAG_DOCUMENT_12</td>\n",
       "      <td>REG_REGION_NOT_LIVE_REGION</td>\n",
       "      <td>0.000000</td>\n",
       "    </tr>\n",
       "    <tr>\n",
       "      <th>3557</th>\n",
       "      <td>FLAG_DOCUMENT_12</td>\n",
       "      <td>HOUR_APPR_PROCESS_START</td>\n",
       "      <td>0.000000</td>\n",
       "    </tr>\n",
       "    <tr>\n",
       "      <th>3556</th>\n",
       "      <td>FLAG_DOCUMENT_12</td>\n",
       "      <td>REGION_RATING_CLIENT_W_CITY</td>\n",
       "      <td>0.000000</td>\n",
       "    </tr>\n",
       "    <tr>\n",
       "      <th>3554</th>\n",
       "      <td>FLAG_DOCUMENT_12</td>\n",
       "      <td>CNT_FAM_MEMBERS</td>\n",
       "      <td>0.000000</td>\n",
       "    </tr>\n",
       "    <tr>\n",
       "      <th>3547</th>\n",
       "      <td>FLAG_DOCUMENT_12</td>\n",
       "      <td>DAYS_ID_PUBLISH</td>\n",
       "      <td>0.000000</td>\n",
       "    </tr>\n",
       "    <tr>\n",
       "      <th>3553</th>\n",
       "      <td>FLAG_DOCUMENT_12</td>\n",
       "      <td>FLAG_EMAIL</td>\n",
       "      <td>0.000000</td>\n",
       "    </tr>\n",
       "    <tr>\n",
       "      <th>3552</th>\n",
       "      <td>FLAG_DOCUMENT_12</td>\n",
       "      <td>FLAG_PHONE</td>\n",
       "      <td>0.000000</td>\n",
       "    </tr>\n",
       "    <tr>\n",
       "      <th>3551</th>\n",
       "      <td>FLAG_DOCUMENT_12</td>\n",
       "      <td>FLAG_CONT_MOBILE</td>\n",
       "      <td>0.000000</td>\n",
       "    </tr>\n",
       "    <tr>\n",
       "      <th>3550</th>\n",
       "      <td>FLAG_DOCUMENT_12</td>\n",
       "      <td>FLAG_WORK_PHONE</td>\n",
       "      <td>0.000000</td>\n",
       "    </tr>\n",
       "    <tr>\n",
       "      <th>3549</th>\n",
       "      <td>FLAG_DOCUMENT_12</td>\n",
       "      <td>FLAG_EMP_PHONE</td>\n",
       "      <td>0.000000</td>\n",
       "    </tr>\n",
       "    <tr>\n",
       "      <th>3548</th>\n",
       "      <td>FLAG_DOCUMENT_12</td>\n",
       "      <td>FLAG_MOBIL</td>\n",
       "      <td>0.000000</td>\n",
       "    </tr>\n",
       "    <tr>\n",
       "      <th>136</th>\n",
       "      <td>CNT_CHILDREN</td>\n",
       "      <td>SK_ID_CURR</td>\n",
       "      <td>0.000000</td>\n",
       "    </tr>\n",
       "  </tbody>\n",
       "</table>\n",
       "</div>"
      ],
      "text/plain": [
       "                         VAR1                         VAR2  Correlation\n",
       "3540         FLAG_DOCUMENT_12                   AMT_CREDIT     0.000000\n",
       "3538         FLAG_DOCUMENT_12                 CNT_CHILDREN     0.000000\n",
       "3536         FLAG_DOCUMENT_12                   SK_ID_CURR     0.000000\n",
       "3517         FLAG_DOCUMENT_11              FLAG_DOCUMENT_9     0.000000\n",
       "3545         FLAG_DOCUMENT_12                DAYS_EMPLOYED     0.000000\n",
       "3515         FLAG_DOCUMENT_11              FLAG_DOCUMENT_7     0.000000\n",
       "3512         FLAG_DOCUMENT_11              FLAG_DOCUMENT_4     0.000000\n",
       "3510         FLAG_DOCUMENT_11              FLAG_DOCUMENT_2     0.000000\n",
       "1440  HOUR_APPR_PROCESS_START                   FLAG_MOBIL     0.000000\n",
       "3508         FLAG_DOCUMENT_11     DEF_60_CNT_SOCIAL_CIRCLE     0.000000\n",
       "3507         FLAG_DOCUMENT_11     OBS_60_CNT_SOCIAL_CIRCLE     0.000000\n",
       "3544         FLAG_DOCUMENT_12                   DAYS_BIRTH     0.000000\n",
       "3546         FLAG_DOCUMENT_12            DAYS_REGISTRATION     0.000000\n",
       "3562         FLAG_DOCUMENT_12       REG_CITY_NOT_WORK_CITY     0.000000\n",
       "3555         FLAG_DOCUMENT_12         REGION_RATING_CLIENT     0.000000\n",
       "3561         FLAG_DOCUMENT_12       REG_CITY_NOT_LIVE_CITY     0.000000\n",
       "3560         FLAG_DOCUMENT_12  LIVE_REGION_NOT_WORK_REGION     0.000000\n",
       "3559         FLAG_DOCUMENT_12   REG_REGION_NOT_WORK_REGION     0.000000\n",
       "3558         FLAG_DOCUMENT_12   REG_REGION_NOT_LIVE_REGION     0.000000\n",
       "3557         FLAG_DOCUMENT_12      HOUR_APPR_PROCESS_START     0.000000\n",
       "3556         FLAG_DOCUMENT_12  REGION_RATING_CLIENT_W_CITY     0.000000\n",
       "3554         FLAG_DOCUMENT_12              CNT_FAM_MEMBERS     0.000000\n",
       "3547         FLAG_DOCUMENT_12              DAYS_ID_PUBLISH     0.000000\n",
       "3553         FLAG_DOCUMENT_12                   FLAG_EMAIL     0.000000\n",
       "3552         FLAG_DOCUMENT_12                   FLAG_PHONE     0.000000\n",
       "3551         FLAG_DOCUMENT_12             FLAG_CONT_MOBILE     0.000000\n",
       "3550         FLAG_DOCUMENT_12              FLAG_WORK_PHONE     0.000000\n",
       "3549         FLAG_DOCUMENT_12               FLAG_EMP_PHONE     0.000000\n",
       "3548         FLAG_DOCUMENT_12                   FLAG_MOBIL     0.000000\n",
       "136              CNT_CHILDREN                   SK_ID_CURR     0.000000"
      ]
     },
     "execution_count": 43,
     "metadata": {},
     "output_type": "execute_result"
    }
   ],
   "source": [
    "corrdf.sort_values(by = 'Correlation', ascending = False).tail(30)"
   ]
  },
  {
   "cell_type": "markdown",
   "metadata": {},
   "source": [
    "So from above correlation we can easily conclude that :\n",
    "1. There is a very weak correlation between days_employed and amt_income_total, this shows that experience have little impact on salary intake.\n",
    "2. There is weak correlation between Days_birth and AMT_annuity, this shows that credit amount decrease with increase in age\n"
   ]
  },
  {
   "cell_type": "markdown",
   "metadata": {},
   "source": [
    "### Final Conclusion :\n",
    "Highest correlation factor are same irrespective it is Target 0 or Target 1\n"
   ]
  },
  {
   "cell_type": "code",
   "execution_count": 44,
   "metadata": {},
   "outputs": [
    {
     "data": {
      "text/plain": [
       "['DEF_60_CNT_SOCIAL_CIRCLE',\n",
       " 'AMT_REQ_CREDIT_BUREAU_WEEK',\n",
       " 'AMT_REQ_CREDIT_BUREAU_DAY',\n",
       " 'DEF_30_CNT_SOCIAL_CIRCLE',\n",
       " 'AMT_REQ_CREDIT_BUREAU_QRT',\n",
       " 'CNT_CHILDREN',\n",
       " 'CNT_FAM_MEMBERS',\n",
       " 'HOUR_APPR_PROCESS_START',\n",
       " 'AMT_REQ_CREDIT_BUREAU_MON',\n",
       " 'AMT_REQ_CREDIT_BUREAU_YEAR',\n",
       " 'FLOORSMAX_MODE',\n",
       " 'OBS_60_CNT_SOCIAL_CIRCLE',\n",
       " 'OBS_30_CNT_SOCIAL_CIRCLE',\n",
       " 'FLOORSMAX_MEDI',\n",
       " 'REGION_POPULATION_RELATIVE',\n",
       " 'YEARS_BEGINEXPLUATATION_MODE',\n",
       " 'YEARS_BEGINEXPLUATATION_MEDI',\n",
       " 'YEARS_BEGINEXPLUATATION_AVG',\n",
       " 'FLOORSMAX_AVG',\n",
       " 'EXT_SOURCE_3',\n",
       " 'AMT_GOODS_PRICE',\n",
       " 'AMT_INCOME_TOTAL',\n",
       " 'DAYS_LAST_PHONE_CHANGE',\n",
       " 'TOTALAREA_MODE',\n",
       " 'AMT_CREDIT',\n",
       " 'DAYS_ID_PUBLISH',\n",
       " 'DAYS_EMPLOYED',\n",
       " 'AMT_ANNUITY',\n",
       " 'DAYS_REGISTRATION',\n",
       " 'DAYS_BIRTH',\n",
       " 'EXT_SOURCE_2',\n",
       " 'SK_ID_CURR']"
      ]
     },
     "execution_count": 44,
     "metadata": {},
     "output_type": "execute_result"
    }
   ],
   "source": [
    "numerical_features"
   ]
  },
  {
   "cell_type": "code",
   "execution_count": 45,
   "metadata": {},
   "outputs": [
    {
     "data": {
      "text/plain": [
       "(-1, 7)"
      ]
     },
     "execution_count": 45,
     "metadata": {},
     "output_type": "execute_result"
    },
    {
     "data": {
      "image/png": "[encoded data removed]",
      "text/plain": [
       "<Figure size 432x288 with 1 Axes>"
      ]
     },
     "metadata": {
      "needs_background": "light"
     },
     "output_type": "display_data"
    }
   ],
   "source": [
    "#We will select some numerical features for univariate analysis \n",
    "sub_num_features = ['CNT_CHILDREN','CNT_FAM_MEMBERS','AMT_REQ_CREDIT_BUREAU_YEAR','EXT_SOURCE_2']\n",
    "\n",
    "#Now we wull plot CNT_CHILDREN Vs Target\n",
    "\n",
    "sns.boxplot(x='TARGET', y = 'CNT_CHILDREN', data = application, orient = 'v')\n",
    "plt.ylim(-1, 7) #Limiting the no of children variable for improving the look of the boxplot"
   ]
  },
  {
   "cell_type": "markdown",
   "metadata": {},
   "source": [
    "#### As we can see from the above that no of childrens are almost same to both categories of customers i.e. those who have faced difficulty in payment and those who have not"
   ]
  },
  {
   "cell_type": "code",
   "execution_count": 46,
   "metadata": {},
   "outputs": [
    {
     "data": {
      "image/png": "[encoded data removed]",
      "text/plain": [
       "<Figure size 432x288 with 1 Axes>"
      ]
     },
     "metadata": {
      "needs_background": "light"
     },
     "output_type": "display_data"
    }
   ],
   "source": [
    "#Now we will plot CNT_FAM_MEMBERS Vs Target\n",
    "\n",
    "sns.boxplot(x='TARGET', y = 'CNT_FAM_MEMBERS', data = application)\n",
    "plt.ylim(0, 7); #Limiting the Y variable for improving the look of the boxplot"
   ]
  },
  {
   "cell_type": "markdown",
   "metadata": {},
   "source": [
    "Here again we can see that there is no link between the no of family member a person has and difficulty in payment."
   ]
  },
  {
   "cell_type": "code",
   "execution_count": 47,
   "metadata": {},
   "outputs": [
    {
     "data": {
      "image/png": "[encoded data removed]",
      "text/plain": [
       "<Figure size 432x288 with 1 Axes>"
      ]
     },
     "metadata": {
      "needs_background": "light"
     },
     "output_type": "display_data"
    }
   ],
   "source": [
    "#Now we will plot AMT_REQ_CREDIT_BUREAU_YEAR Vs Target\n",
    "\n",
    "sns.boxplot(x='TARGET', y = 'AMT_REQ_CREDIT_BUREAU_YEAR', data = application)\n",
    "plt.ylim(0, 8); #Limiting the Y variable for improving the look of the boxplot"
   ]
  },
  {
   "cell_type": "markdown",
   "metadata": {},
   "source": [
    "We can see from the above that for those customers for whom there was not a single credit enquiry during the a year one month before application, there is very less payment diffculty. \n",
    "We can also see that median for credit bureau enquiries in case of customers where no payment diffculty happened in 1 where median in cases where there is payment difficulty is 2. \n",
    "#### So preference shoule be given to customers with less no of credit bureau enquiries"
   ]
  },
  {
   "cell_type": "code",
   "execution_count": 48,
   "metadata": {},
   "outputs": [
    {
     "data": {
      "image/png": "[encoded data removed]",
      "text/plain": [
       "<Figure size 432x288 with 1 Axes>"
      ]
     },
     "metadata": {
      "needs_background": "light"
     },
     "output_type": "display_data"
    }
   ],
   "source": [
    "#Now we will plot EXT_SOURCE_2 Vs Target\n",
    "sns.boxplot(x='TARGET', y = 'EXT_SOURCE_2', data = application);"
   ]
  },
  {
   "cell_type": "markdown",
   "metadata": {},
   "source": [
    "As we can see from the above there is less payment difficulty in case of people having external credit rating score of 0.5 and above. \n",
    "The mean external credit rating source 3 for payment difficulty customers is 0.4.\n",
    "\n",
    "##### So preference should be given to customers with more external credit rating source 3"
   ]
  },
  {
   "cell_type": "code",
   "execution_count": 49,
   "metadata": {},
   "outputs": [
    {
     "data": {
      "image/png": "[encoded data removed]",
      "text/plain": [
       "<Figure size 432x288 with 1 Axes>"
      ]
     },
     "metadata": {
      "needs_background": "light"
     },
     "output_type": "display_data"
    }
   ],
   "source": [
    "#Now we will plot DAYS_LAST_PHONE_CHANGE Vs Target\n",
    "sns.boxplot(x='TARGET', y = 'DAYS_LAST_PHONE_CHANGE', data = application);\n",
    "\n"
   ]
  },
  {
   "cell_type": "markdown",
   "metadata": {},
   "source": [
    "As we can see that customers with no payment difficulty dont change phone frequently as compared to customers where there is a payment difficulty. However, the difference is not large enough."
   ]
  },
  {
   "cell_type": "code",
   "execution_count": 50,
   "metadata": {},
   "outputs": [
    {
     "data": {
      "image/png": "[encoded data removed]",
      "text/plain": [
       "<Figure size 432x288 with 1 Axes>"
      ]
     },
     "metadata": {
      "needs_background": "light"
     },
     "output_type": "display_data"
    }
   ],
   "source": [
    "#Now we will plot DAYS_EMPLOYED Vs Target\n",
    "sns.boxplot(x='TARGET', y = 'DAYS_EMPLOYED', data = application);\n",
    "plt.ylim(-5000, 100);"
   ]
  },
  {
   "cell_type": "markdown",
   "metadata": {},
   "source": [
    "As we can see that in case of customers who have employed for more days there is less payment difficulty."
   ]
  },
  {
   "cell_type": "markdown",
   "metadata": {},
   "source": [
    "## Bivariate and Multivariate Analysis"
   ]
  },
  {
   "cell_type": "code",
   "execution_count": 51,
   "metadata": {},
   "outputs": [
    {
     "data": {
      "image/png": "[encoded data removed]",
      "text/plain": [
       "<Figure size 1152x576 with 1 Axes>"
      ]
     },
     "metadata": {
      "needs_background": "light"
     },
     "output_type": "display_data"
    }
   ],
   "source": [
    "#Payment Difficulty Income Amount vs Education Status Vs Target\n",
    "\n",
    "plt.figure(figsize=(16,8))\n",
    "plt.xticks(rotation=45)\n",
    "plt.yscale('log')\n",
    "sns.boxplot(data =application, x='NAME_EDUCATION_TYPE',y='AMT_INCOME_TOTAL', hue ='TARGET',orient='v')\n",
    "plt.title(' Income Amount vs Education Status Vs TARGET');"
   ]
  },
  {
   "cell_type": "markdown",
   "metadata": {},
   "source": [
    "We can make following observations from the above\n",
    "1. Organisation should try to focus more on people with academic degree\n",
    "2. People with incomeplete higher and higher education has lesser payment difficulty. \n",
    "3. There are lot of outliers in case of higher education."
   ]
  },
  {
   "cell_type": "code",
   "execution_count": 52,
   "metadata": {},
   "outputs": [
    {
     "data": {
      "image/png": "[encoded data removed]",
      "text/plain": [
       "<Figure size 1152x576 with 1 Axes>"
      ]
     },
     "metadata": {
      "needs_background": "light"
     },
     "output_type": "display_data"
    }
   ],
   "source": [
    "#Income Amount vs Credit Exposure Vs Target\n",
    "\n",
    "plt.figure(figsize=(16,8))\n",
    "plt.xticks(rotation=45)\n",
    "plt.yscale('log')\n",
    "sns.boxplot(data =application, x='Credit_Exposure',y='AMT_INCOME_TOTAL', hue ='TARGET',orient='v')\n",
    "plt.title(' Income Amount vs Education Status Vs TARGET');"
   ]
  },
  {
   "cell_type": "markdown",
   "metadata": {},
   "source": [
    "We can make following observations from the above\n",
    "1. Organization is taking exposure to customers based on their income level. As with increase in exposure we can observe the increase in income as well.\n",
    "2. There is more payment difficulty in cases where there is low exposure i.e. exposure of less than 50,000/-"
   ]
  },
  {
   "cell_type": "code",
   "execution_count": 53,
   "metadata": {},
   "outputs": [
    {
     "data": {
      "text/html": [
       "<div>\n",
       "<style scoped>\n",
       "    .dataframe tbody tr th:only-of-type {\n",
       "        vertical-align: middle;\n",
       "    }\n",
       "\n",
       "    .dataframe tbody tr th {\n",
       "        vertical-align: top;\n",
       "    }\n",
       "\n",
       "    .dataframe thead tr th {\n",
       "        text-align: left;\n",
       "    }\n",
       "\n",
       "    .dataframe thead tr:last-of-type th {\n",
       "        text-align: right;\n",
       "    }\n",
       "</style>\n",
       "<table border=\"1\" class=\"dataframe\">\n",
       "  <thead>\n",
       "    <tr>\n",
       "      <th>FLAG_OWN_CAR</th>\n",
       "      <th colspan=\"4\" halign=\"left\">N</th>\n",
       "      <th colspan=\"4\" halign=\"left\">Y</th>\n",
       "      <th>Total</th>\n",
       "    </tr>\n",
       "    <tr>\n",
       "      <th>FLAG_OWN_REALTY</th>\n",
       "      <th colspan=\"2\" halign=\"left\">N</th>\n",
       "      <th colspan=\"2\" halign=\"left\">Y</th>\n",
       "      <th colspan=\"2\" halign=\"left\">N</th>\n",
       "      <th colspan=\"2\" halign=\"left\">Y</th>\n",
       "      <th></th>\n",
       "    </tr>\n",
       "    <tr>\n",
       "      <th>TARGET</th>\n",
       "      <th>0</th>\n",
       "      <th>1</th>\n",
       "      <th>0</th>\n",
       "      <th>1</th>\n",
       "      <th>0</th>\n",
       "      <th>1</th>\n",
       "      <th>0</th>\n",
       "      <th>1</th>\n",
       "      <th></th>\n",
       "    </tr>\n",
       "    <tr>\n",
       "      <th>NAME_EDUCATION_TYPE</th>\n",
       "      <th></th>\n",
       "      <th></th>\n",
       "      <th></th>\n",
       "      <th></th>\n",
       "      <th></th>\n",
       "      <th></th>\n",
       "      <th></th>\n",
       "      <th></th>\n",
       "      <th></th>\n",
       "    </tr>\n",
       "  </thead>\n",
       "  <tbody>\n",
       "    <tr>\n",
       "      <th>Academic degree</th>\n",
       "      <td>32</td>\n",
       "      <td>1</td>\n",
       "      <td>68</td>\n",
       "      <td>1</td>\n",
       "      <td>16</td>\n",
       "      <td>0</td>\n",
       "      <td>45</td>\n",
       "      <td>1</td>\n",
       "      <td>164</td>\n",
       "    </tr>\n",
       "    <tr>\n",
       "      <th>Higher education</th>\n",
       "      <td>13270</td>\n",
       "      <td>832</td>\n",
       "      <td>27827</td>\n",
       "      <td>1662</td>\n",
       "      <td>9327</td>\n",
       "      <td>438</td>\n",
       "      <td>20430</td>\n",
       "      <td>1077</td>\n",
       "      <td>74863</td>\n",
       "    </tr>\n",
       "    <tr>\n",
       "      <th>Incomplete higher</th>\n",
       "      <td>2129</td>\n",
       "      <td>248</td>\n",
       "      <td>3726</td>\n",
       "      <td>340</td>\n",
       "      <td>1245</td>\n",
       "      <td>94</td>\n",
       "      <td>2305</td>\n",
       "      <td>190</td>\n",
       "      <td>10277</td>\n",
       "    </tr>\n",
       "    <tr>\n",
       "      <th>Lower secondary</th>\n",
       "      <td>843</td>\n",
       "      <td>129</td>\n",
       "      <td>1717</td>\n",
       "      <td>182</td>\n",
       "      <td>301</td>\n",
       "      <td>36</td>\n",
       "      <td>538</td>\n",
       "      <td>70</td>\n",
       "      <td>3816</td>\n",
       "    </tr>\n",
       "    <tr>\n",
       "      <th>Secondary / secondary special</th>\n",
       "      <td>40126</td>\n",
       "      <td>4362</td>\n",
       "      <td>95937</td>\n",
       "      <td>9492</td>\n",
       "      <td>19068</td>\n",
       "      <td>1702</td>\n",
       "      <td>43736</td>\n",
       "      <td>3968</td>\n",
       "      <td>218391</td>\n",
       "    </tr>\n",
       "    <tr>\n",
       "      <th>Total</th>\n",
       "      <td>56400</td>\n",
       "      <td>5572</td>\n",
       "      <td>129275</td>\n",
       "      <td>11677</td>\n",
       "      <td>29957</td>\n",
       "      <td>2270</td>\n",
       "      <td>67054</td>\n",
       "      <td>5306</td>\n",
       "      <td>307511</td>\n",
       "    </tr>\n",
       "  </tbody>\n",
       "</table>\n",
       "</div>"
      ],
      "text/plain": [
       "FLAG_OWN_CAR                       N                           Y               \\\n",
       "FLAG_OWN_REALTY                    N             Y             N            Y   \n",
       "TARGET                             0     1       0      1      0     1      0   \n",
       "NAME_EDUCATION_TYPE                                                             \n",
       "Academic degree                   32     1      68      1     16     0     45   \n",
       "Higher education               13270   832   27827   1662   9327   438  20430   \n",
       "Incomplete higher               2129   248    3726    340   1245    94   2305   \n",
       "Lower secondary                  843   129    1717    182    301    36    538   \n",
       "Secondary / secondary special  40126  4362   95937   9492  19068  1702  43736   \n",
       "Total                          56400  5572  129275  11677  29957  2270  67054   \n",
       "\n",
       "FLAG_OWN_CAR                          Total  \n",
       "FLAG_OWN_REALTY                              \n",
       "TARGET                            1          \n",
       "NAME_EDUCATION_TYPE                          \n",
       "Academic degree                   1     164  \n",
       "Higher education               1077   74863  \n",
       "Incomplete higher               190   10277  \n",
       "Lower secondary                  70    3816  \n",
       "Secondary / secondary special  3968  218391  \n",
       "Total                          5306  307511  "
      ]
     },
     "execution_count": 53,
     "metadata": {},
     "output_type": "execute_result"
    }
   ],
   "source": [
    "pd.crosstab(application['NAME_EDUCATION_TYPE'],[application['FLAG_OWN_CAR'],application['FLAG_OWN_REALTY'],\n",
    "                                               application['TARGET']],margins=True, margins_name=\"Total\" ) "
   ]
  },
  {
   "cell_type": "markdown",
   "metadata": {},
   "source": [
    "As we can see frm the above that -\n",
    "\n",
    "1.there is more possibility of difficulty in payment in case of customer with Secondary / secondary specialeducation and not having car and realty.\n",
    "2. People with Lower secondary have more probabilty of payment difficulty compared to other education categories. "
   ]
  },
  {
   "cell_type": "markdown",
   "metadata": {},
   "source": [
    "## Now we will analyse the Previous Application Data"
   ]
  },
  {
   "cell_type": "code",
   "execution_count": 54,
   "metadata": {},
   "outputs": [
    {
     "data": {
      "text/html": [
       "<div>\n",
       "<style scoped>\n",
       "    .dataframe tbody tr th:only-of-type {\n",
       "        vertical-align: middle;\n",
       "    }\n",
       "\n",
       "    .dataframe tbody tr th {\n",
       "        vertical-align: top;\n",
       "    }\n",
       "\n",
       "    .dataframe thead th {\n",
       "        text-align: right;\n",
       "    }\n",
       "</style>\n",
       "<table border=\"1\" class=\"dataframe\">\n",
       "  <thead>\n",
       "    <tr style=\"text-align: right;\">\n",
       "      <th></th>\n",
       "      <th>SK_ID_PREV</th>\n",
       "      <th>SK_ID_CURR</th>\n",
       "      <th>NAME_CONTRACT_TYPE</th>\n",
       "      <th>AMT_ANNUITY</th>\n",
       "      <th>AMT_APPLICATION</th>\n",
       "      <th>AMT_CREDIT</th>\n",
       "      <th>AMT_DOWN_PAYMENT</th>\n",
       "      <th>AMT_GOODS_PRICE</th>\n",
       "      <th>WEEKDAY_APPR_PROCESS_START</th>\n",
       "      <th>HOUR_APPR_PROCESS_START</th>\n",
       "      <th>...</th>\n",
       "      <th>NAME_SELLER_INDUSTRY</th>\n",
       "      <th>CNT_PAYMENT</th>\n",
       "      <th>NAME_YIELD_GROUP</th>\n",
       "      <th>PRODUCT_COMBINATION</th>\n",
       "      <th>DAYS_FIRST_DRAWING</th>\n",
       "      <th>DAYS_FIRST_DUE</th>\n",
       "      <th>DAYS_LAST_DUE_1ST_VERSION</th>\n",
       "      <th>DAYS_LAST_DUE</th>\n",
       "      <th>DAYS_TERMINATION</th>\n",
       "      <th>NFLAG_INSURED_ON_APPROVAL</th>\n",
       "    </tr>\n",
       "  </thead>\n",
       "  <tbody>\n",
       "    <tr>\n",
       "      <th>0</th>\n",
       "      <td>2030495</td>\n",
       "      <td>271877</td>\n",
       "      <td>Consumer loans</td>\n",
       "      <td>1730.430000</td>\n",
       "      <td>17145.000000</td>\n",
       "      <td>17145.000000</td>\n",
       "      <td>0.000000</td>\n",
       "      <td>17145.000000</td>\n",
       "      <td>SATURDAY</td>\n",
       "      <td>15</td>\n",
       "      <td>...</td>\n",
       "      <td>Connectivity</td>\n",
       "      <td>12.000000</td>\n",
       "      <td>middle</td>\n",
       "      <td>POS mobile with interest</td>\n",
       "      <td>365243.000000</td>\n",
       "      <td>-42.000000</td>\n",
       "      <td>300.000000</td>\n",
       "      <td>-42.000000</td>\n",
       "      <td>-37.000000</td>\n",
       "      <td>0.000000</td>\n",
       "    </tr>\n",
       "    <tr>\n",
       "      <th>1</th>\n",
       "      <td>2802425</td>\n",
       "      <td>108129</td>\n",
       "      <td>Cash loans</td>\n",
       "      <td>25188.615000</td>\n",
       "      <td>607500.000000</td>\n",
       "      <td>679671.000000</td>\n",
       "      <td>nan</td>\n",
       "      <td>607500.000000</td>\n",
       "      <td>THURSDAY</td>\n",
       "      <td>11</td>\n",
       "      <td>...</td>\n",
       "      <td>XNA</td>\n",
       "      <td>36.000000</td>\n",
       "      <td>low_action</td>\n",
       "      <td>Cash X-Sell: low</td>\n",
       "      <td>365243.000000</td>\n",
       "      <td>-134.000000</td>\n",
       "      <td>916.000000</td>\n",
       "      <td>365243.000000</td>\n",
       "      <td>365243.000000</td>\n",
       "      <td>1.000000</td>\n",
       "    </tr>\n",
       "    <tr>\n",
       "      <th>2</th>\n",
       "      <td>2523466</td>\n",
       "      <td>122040</td>\n",
       "      <td>Cash loans</td>\n",
       "      <td>15060.735000</td>\n",
       "      <td>112500.000000</td>\n",
       "      <td>136444.500000</td>\n",
       "      <td>nan</td>\n",
       "      <td>112500.000000</td>\n",
       "      <td>TUESDAY</td>\n",
       "      <td>11</td>\n",
       "      <td>...</td>\n",
       "      <td>XNA</td>\n",
       "      <td>12.000000</td>\n",
       "      <td>high</td>\n",
       "      <td>Cash X-Sell: high</td>\n",
       "      <td>365243.000000</td>\n",
       "      <td>-271.000000</td>\n",
       "      <td>59.000000</td>\n",
       "      <td>365243.000000</td>\n",
       "      <td>365243.000000</td>\n",
       "      <td>1.000000</td>\n",
       "    </tr>\n",
       "    <tr>\n",
       "      <th>3</th>\n",
       "      <td>2819243</td>\n",
       "      <td>176158</td>\n",
       "      <td>Cash loans</td>\n",
       "      <td>47041.335000</td>\n",
       "      <td>450000.000000</td>\n",
       "      <td>470790.000000</td>\n",
       "      <td>nan</td>\n",
       "      <td>450000.000000</td>\n",
       "      <td>MONDAY</td>\n",
       "      <td>7</td>\n",
       "      <td>...</td>\n",
       "      <td>XNA</td>\n",
       "      <td>12.000000</td>\n",
       "      <td>middle</td>\n",
       "      <td>Cash X-Sell: middle</td>\n",
       "      <td>365243.000000</td>\n",
       "      <td>-482.000000</td>\n",
       "      <td>-152.000000</td>\n",
       "      <td>-182.000000</td>\n",
       "      <td>-177.000000</td>\n",
       "      <td>1.000000</td>\n",
       "    </tr>\n",
       "    <tr>\n",
       "      <th>4</th>\n",
       "      <td>1784265</td>\n",
       "      <td>202054</td>\n",
       "      <td>Cash loans</td>\n",
       "      <td>31924.395000</td>\n",
       "      <td>337500.000000</td>\n",
       "      <td>404055.000000</td>\n",
       "      <td>nan</td>\n",
       "      <td>337500.000000</td>\n",
       "      <td>THURSDAY</td>\n",
       "      <td>9</td>\n",
       "      <td>...</td>\n",
       "      <td>XNA</td>\n",
       "      <td>24.000000</td>\n",
       "      <td>high</td>\n",
       "      <td>Cash Street: high</td>\n",
       "      <td>nan</td>\n",
       "      <td>nan</td>\n",
       "      <td>nan</td>\n",
       "      <td>nan</td>\n",
       "      <td>nan</td>\n",
       "      <td>nan</td>\n",
       "    </tr>\n",
       "  </tbody>\n",
       "</table>\n",
       "<p>5 rows × 37 columns</p>\n",
       "</div>"
      ],
      "text/plain": [
       "   SK_ID_PREV  SK_ID_CURR NAME_CONTRACT_TYPE  AMT_ANNUITY  AMT_APPLICATION  \\\n",
       "0     2030495      271877     Consumer loans  1730.430000     17145.000000   \n",
       "1     2802425      108129         Cash loans 25188.615000    607500.000000   \n",
       "2     2523466      122040         Cash loans 15060.735000    112500.000000   \n",
       "3     2819243      176158         Cash loans 47041.335000    450000.000000   \n",
       "4     1784265      202054         Cash loans 31924.395000    337500.000000   \n",
       "\n",
       "     AMT_CREDIT  AMT_DOWN_PAYMENT  AMT_GOODS_PRICE WEEKDAY_APPR_PROCESS_START  \\\n",
       "0  17145.000000          0.000000     17145.000000                   SATURDAY   \n",
       "1 679671.000000               nan    607500.000000                   THURSDAY   \n",
       "2 136444.500000               nan    112500.000000                    TUESDAY   \n",
       "3 470790.000000               nan    450000.000000                     MONDAY   \n",
       "4 404055.000000               nan    337500.000000                   THURSDAY   \n",
       "\n",
       "   HOUR_APPR_PROCESS_START  ... NAME_SELLER_INDUSTRY  CNT_PAYMENT  \\\n",
       "0                       15  ...         Connectivity    12.000000   \n",
       "1                       11  ...                  XNA    36.000000   \n",
       "2                       11  ...                  XNA    12.000000   \n",
       "3                        7  ...                  XNA    12.000000   \n",
       "4                        9  ...                  XNA    24.000000   \n",
       "\n",
       "   NAME_YIELD_GROUP       PRODUCT_COMBINATION  DAYS_FIRST_DRAWING  \\\n",
       "0            middle  POS mobile with interest       365243.000000   \n",
       "1        low_action          Cash X-Sell: low       365243.000000   \n",
       "2              high         Cash X-Sell: high       365243.000000   \n",
       "3            middle       Cash X-Sell: middle       365243.000000   \n",
       "4              high         Cash Street: high                 nan   \n",
       "\n",
       "  DAYS_FIRST_DUE DAYS_LAST_DUE_1ST_VERSION  DAYS_LAST_DUE DAYS_TERMINATION  \\\n",
       "0     -42.000000                300.000000     -42.000000       -37.000000   \n",
       "1    -134.000000                916.000000  365243.000000    365243.000000   \n",
       "2    -271.000000                 59.000000  365243.000000    365243.000000   \n",
       "3    -482.000000               -152.000000    -182.000000      -177.000000   \n",
       "4            nan                       nan            nan              nan   \n",
       "\n",
       "  NFLAG_INSURED_ON_APPROVAL  \n",
       "0                  0.000000  \n",
       "1                  1.000000  \n",
       "2                  1.000000  \n",
       "3                  1.000000  \n",
       "4                       nan  \n",
       "\n",
       "[5 rows x 37 columns]"
      ]
     },
     "execution_count": 54,
     "metadata": {},
     "output_type": "execute_result"
    }
   ],
   "source": [
    "prev_appl = pd.read_csv(\"C:/SHUBHANGI/GroupCaseStudy/previous_application.csv\")\n",
    "prev_appl.head()"
   ]
  },
  {
   "cell_type": "code",
   "execution_count": 55,
   "metadata": {},
   "outputs": [
    {
     "name": "stdout",
     "output_type": "stream",
     "text": [
      "<class 'pandas.core.frame.DataFrame'>\n",
      "RangeIndex: 1670214 entries, 0 to 1670213\n",
      "Data columns (total 37 columns):\n",
      " #   Column                       Non-Null Count    Dtype  \n",
      "---  ------                       --------------    -----  \n",
      " 0   SK_ID_PREV                   1670214 non-null  int64  \n",
      " 1   SK_ID_CURR                   1670214 non-null  int64  \n",
      " 2   NAME_CONTRACT_TYPE           1670214 non-null  object \n",
      " 3   AMT_ANNUITY                  1297979 non-null  float64\n",
      " 4   AMT_APPLICATION              1670214 non-null  float64\n",
      " 5   AMT_CREDIT                   1670213 non-null  float64\n",
      " 6   AMT_DOWN_PAYMENT             774370 non-null   float64\n",
      " 7   AMT_GOODS_PRICE              1284699 non-null  float64\n",
      " 8   WEEKDAY_APPR_PROCESS_START   1670214 non-null  object \n",
      " 9   HOUR_APPR_PROCESS_START      1670214 non-null  int64  \n",
      " 10  FLAG_LAST_APPL_PER_CONTRACT  1670214 non-null  object \n",
      " 11  NFLAG_LAST_APPL_IN_DAY       1670214 non-null  int64  \n",
      " 12  RATE_DOWN_PAYMENT            774370 non-null   float64\n",
      " 13  RATE_INTEREST_PRIMARY        5951 non-null     float64\n",
      " 14  RATE_INTEREST_PRIVILEGED     5951 non-null     float64\n",
      " 15  NAME_CASH_LOAN_PURPOSE       1670214 non-null  object \n",
      " 16  NAME_CONTRACT_STATUS         1670214 non-null  object \n",
      " 17  DAYS_DECISION                1670214 non-null  int64  \n",
      " 18  NAME_PAYMENT_TYPE            1670214 non-null  object \n",
      " 19  CODE_REJECT_REASON           1670214 non-null  object \n",
      " 20  NAME_TYPE_SUITE              849809 non-null   object \n",
      " 21  NAME_CLIENT_TYPE             1670214 non-null  object \n",
      " 22  NAME_GOODS_CATEGORY          1670214 non-null  object \n",
      " 23  NAME_PORTFOLIO               1670214 non-null  object \n",
      " 24  NAME_PRODUCT_TYPE            1670214 non-null  object \n",
      " 25  CHANNEL_TYPE                 1670214 non-null  object \n",
      " 26  SELLERPLACE_AREA             1670214 non-null  int64  \n",
      " 27  NAME_SELLER_INDUSTRY         1670214 non-null  object \n",
      " 28  CNT_PAYMENT                  1297984 non-null  float64\n",
      " 29  NAME_YIELD_GROUP             1670214 non-null  object \n",
      " 30  PRODUCT_COMBINATION          1669868 non-null  object \n",
      " 31  DAYS_FIRST_DRAWING           997149 non-null   float64\n",
      " 32  DAYS_FIRST_DUE               997149 non-null   float64\n",
      " 33  DAYS_LAST_DUE_1ST_VERSION    997149 non-null   float64\n",
      " 34  DAYS_LAST_DUE                997149 non-null   float64\n",
      " 35  DAYS_TERMINATION             997149 non-null   float64\n",
      " 36  NFLAG_INSURED_ON_APPROVAL    997149 non-null   float64\n",
      "dtypes: float64(15), int64(6), object(16)\n",
      "memory usage: 471.5+ MB\n"
     ]
    }
   ],
   "source": [
    "prev_appl.info()"
   ]
  },
  {
   "cell_type": "markdown",
   "metadata": {},
   "source": [
    "## Data Cleaning - Previous Application Data \n",
    "Checking the columns having more than 40% null values"
   ]
  },
  {
   "cell_type": "code",
   "execution_count": 56,
   "metadata": {},
   "outputs": [
    {
     "data": {
      "text/plain": [
       "11"
      ]
     },
     "execution_count": 56,
     "metadata": {},
     "output_type": "execute_result"
    }
   ],
   "source": [
    "#Columnwise null values\n",
    "percent_wise_null = prev_appl.isnull().sum()*100/len(prev_appl)\n",
    "# Calculating no. of columns where null values are more than 40 percent \n",
    "len(percent_wise_null[percent_wise_null > 40])"
   ]
  },
  {
   "cell_type": "markdown",
   "metadata": {},
   "source": [
    "There are 11 columns where null values are more than 40 percent. So we will remove them."
   ]
  },
  {
   "cell_type": "code",
   "execution_count": 57,
   "metadata": {},
   "outputs": [
    {
     "data": {
      "text/plain": [
       "Index(['AMT_DOWN_PAYMENT', 'RATE_DOWN_PAYMENT', 'RATE_INTEREST_PRIMARY',\n",
       "       'RATE_INTEREST_PRIVILEGED', 'NAME_TYPE_SUITE', 'DAYS_FIRST_DRAWING',\n",
       "       'DAYS_FIRST_DUE', 'DAYS_LAST_DUE_1ST_VERSION', 'DAYS_LAST_DUE',\n",
       "       'DAYS_TERMINATION', 'NFLAG_INSURED_ON_APPROVAL'],\n",
       "      dtype='object')"
      ]
     },
     "execution_count": 57,
     "metadata": {},
     "output_type": "execute_result"
    }
   ],
   "source": [
    "#Extract column names from percent_wise_null DF\n",
    "column_to_delete = percent_wise_null[percent_wise_null > 40].index\n",
    "column_to_delete"
   ]
  },
  {
   "cell_type": "code",
   "execution_count": 58,
   "metadata": {},
   "outputs": [
    {
     "data": {
      "text/plain": [
       "(1670214, 26)"
      ]
     },
     "execution_count": 58,
     "metadata": {},
     "output_type": "execute_result"
    }
   ],
   "source": [
    "#Dropping the column and making the changes permanent to prev_appl using inplace\n",
    "prev_appl.drop(columns = column_to_delete, inplace = True)\n",
    "prev_appl.shape #To confirm columns are indeeed deleted => 37-11 = 26"
   ]
  },
  {
   "cell_type": "markdown",
   "metadata": {},
   "source": [
    "##### We will now clean the rowwise null values"
   ]
  },
  {
   "cell_type": "code",
   "execution_count": 59,
   "metadata": {},
   "outputs": [],
   "source": [
    "# We will now delete the rows where 3 or more columns are empty (nan)\n",
    "prev_appl.dropna(thresh = 23,inplace=True)"
   ]
  },
  {
   "cell_type": "code",
   "execution_count": 60,
   "metadata": {},
   "outputs": [
    {
     "data": {
      "text/plain": [
       "(1669868, 26)"
      ]
     },
     "execution_count": 60,
     "metadata": {},
     "output_type": "execute_result"
    }
   ],
   "source": [
    "prev_appl.shape"
   ]
  },
  {
   "cell_type": "markdown",
   "metadata": {},
   "source": [
    "As we can see the few rows got deleted"
   ]
  },
  {
   "cell_type": "markdown",
   "metadata": {},
   "source": [
    "## Univariate analysis -Prev Application"
   ]
  },
  {
   "cell_type": "code",
   "execution_count": 61,
   "metadata": {},
   "outputs": [
    {
     "data": {
      "text/plain": [
       "XAP                                0.552328\n",
       "XNA                                0.405971\n",
       "Repairs                            0.014232\n",
       "Other                              0.009347\n",
       "Urgent needs                       0.005038\n",
       "Buying a used car                  0.001729\n",
       "Building a house or an annex       0.001613\n",
       "Everyday expenses                  0.001447\n",
       "Medicine                           0.001302\n",
       "Payments on other loans            0.001156\n",
       "Education                          0.000942\n",
       "Journey                            0.000742\n",
       "Purchase of electronic equipment   0.000635\n",
       "Buying a new car                   0.000606\n",
       "Wedding / gift / holiday           0.000576\n",
       "Buying a home                      0.000518\n",
       "Car repairs                        0.000477\n",
       "Furniture                          0.000449\n",
       "Buying a holiday home / land       0.000319\n",
       "Business development               0.000255\n",
       "Gasification / water supply        0.000180\n",
       "Buying a garage                    0.000081\n",
       "Hobby                              0.000033\n",
       "Money for a third person           0.000015\n",
       "Refusal to name the goal           0.000009\n",
       "Name: NAME_CASH_LOAN_PURPOSE, dtype: float64"
      ]
     },
     "execution_count": 61,
     "metadata": {},
     "output_type": "execute_result"
    }
   ],
   "source": [
    "prev_appl['NAME_CASH_LOAN_PURPOSE'].value_counts(normalize = True)"
   ]
  },
  {
   "cell_type": "markdown",
   "metadata": {},
   "source": [
    "As we can that loan purpose in almost 96% cases is given as XAP or XNA. We may drop the column"
   ]
  },
  {
   "cell_type": "code",
   "execution_count": 62,
   "metadata": {},
   "outputs": [
    {
     "data": {
      "text/plain": [
       "(1669868, 25)"
      ]
     },
     "execution_count": 62,
     "metadata": {},
     "output_type": "execute_result"
    }
   ],
   "source": [
    "prev_appl.drop(columns = 'NAME_CASH_LOAN_PURPOSE', inplace = True)\n",
    "prev_appl.shape"
   ]
  },
  {
   "cell_type": "code",
   "execution_count": 63,
   "metadata": {},
   "outputs": [
    {
     "data": {
      "text/plain": [
       "Approved       0.620876\n",
       "Canceled       0.189239\n",
       "Refused        0.174054\n",
       "Unused offer   0.015831\n",
       "Name: NAME_CONTRACT_STATUS, dtype: float64"
      ]
     },
     "execution_count": 63,
     "metadata": {},
     "output_type": "execute_result"
    }
   ],
   "source": [
    "prev_appl['NAME_CONTRACT_STATUS'].value_counts(normalize = True)"
   ]
  },
  {
   "cell_type": "code",
   "execution_count": 64,
   "metadata": {},
   "outputs": [
    {
     "data": {
      "text/plain": [
       "XNA                    0.512445\n",
       "Consumer electronics   0.238501\n",
       "Connectivity           0.165095\n",
       "Furniture              0.034643\n",
       "Construction           0.017834\n",
       "Clothing               0.014342\n",
       "Industry               0.011494\n",
       "Auto technology        0.002988\n",
       "Jewelry                0.001622\n",
       "MLM partners           0.000728\n",
       "Tourism                0.000307\n",
       "Name: NAME_SELLER_INDUSTRY, dtype: float64"
      ]
     },
     "execution_count": 64,
     "metadata": {},
     "output_type": "execute_result"
    }
   ],
   "source": [
    "prev_appl['NAME_SELLER_INDUSTRY'].value_counts(normalize = True)"
   ]
  },
  {
   "cell_type": "markdown",
   "metadata": {},
   "source": [
    "Here also more than 51 percent of the values in the column is XNA. So we may drop the column"
   ]
  },
  {
   "cell_type": "code",
   "execution_count": 65,
   "metadata": {},
   "outputs": [
    {
     "data": {
      "text/plain": [
       "(1669868, 24)"
      ]
     },
     "execution_count": 65,
     "metadata": {},
     "output_type": "execute_result"
    }
   ],
   "source": [
    "prev_appl.drop(columns = 'NAME_SELLER_INDUSTRY', inplace = True)\n",
    "prev_appl.shape"
   ]
  },
  {
   "cell_type": "markdown",
   "metadata": {},
   "source": [
    "## Now we will merge the two files"
   ]
  },
  {
   "cell_type": "code",
   "execution_count": 66,
   "metadata": {},
   "outputs": [
    {
     "data": {
      "text/html": [
       "<div>\n",
       "<style scoped>\n",
       "    .dataframe tbody tr th:only-of-type {\n",
       "        vertical-align: middle;\n",
       "    }\n",
       "\n",
       "    .dataframe tbody tr th {\n",
       "        vertical-align: top;\n",
       "    }\n",
       "\n",
       "    .dataframe thead th {\n",
       "        text-align: right;\n",
       "    }\n",
       "</style>\n",
       "<table border=\"1\" class=\"dataframe\">\n",
       "  <thead>\n",
       "    <tr style=\"text-align: right;\">\n",
       "      <th></th>\n",
       "      <th>SK_ID_CURR</th>\n",
       "      <th>TARGET</th>\n",
       "      <th>NAME_CONTRACT_TYPE_x</th>\n",
       "      <th>CODE_GENDER</th>\n",
       "      <th>FLAG_OWN_CAR</th>\n",
       "      <th>FLAG_OWN_REALTY</th>\n",
       "      <th>CNT_CHILDREN</th>\n",
       "      <th>AMT_INCOME_TOTAL</th>\n",
       "      <th>AMT_CREDIT_x</th>\n",
       "      <th>AMT_ANNUITY_x</th>\n",
       "      <th>...</th>\n",
       "      <th>CODE_REJECT_REASON</th>\n",
       "      <th>NAME_CLIENT_TYPE</th>\n",
       "      <th>NAME_GOODS_CATEGORY</th>\n",
       "      <th>NAME_PORTFOLIO</th>\n",
       "      <th>NAME_PRODUCT_TYPE</th>\n",
       "      <th>CHANNEL_TYPE</th>\n",
       "      <th>SELLERPLACE_AREA</th>\n",
       "      <th>CNT_PAYMENT</th>\n",
       "      <th>NAME_YIELD_GROUP</th>\n",
       "      <th>PRODUCT_COMBINATION</th>\n",
       "    </tr>\n",
       "  </thead>\n",
       "  <tbody>\n",
       "    <tr>\n",
       "      <th>0</th>\n",
       "      <td>100002</td>\n",
       "      <td>1</td>\n",
       "      <td>Cash loans</td>\n",
       "      <td>M</td>\n",
       "      <td>N</td>\n",
       "      <td>Y</td>\n",
       "      <td>0</td>\n",
       "      <td>202500.000000</td>\n",
       "      <td>406597.500000</td>\n",
       "      <td>24700.500000</td>\n",
       "      <td>...</td>\n",
       "      <td>XAP</td>\n",
       "      <td>New</td>\n",
       "      <td>Vehicles</td>\n",
       "      <td>POS</td>\n",
       "      <td>XNA</td>\n",
       "      <td>Stone</td>\n",
       "      <td>500</td>\n",
       "      <td>24.000000</td>\n",
       "      <td>low_normal</td>\n",
       "      <td>POS other with interest</td>\n",
       "    </tr>\n",
       "    <tr>\n",
       "      <th>1</th>\n",
       "      <td>100003</td>\n",
       "      <td>0</td>\n",
       "      <td>Cash loans</td>\n",
       "      <td>F</td>\n",
       "      <td>N</td>\n",
       "      <td>N</td>\n",
       "      <td>0</td>\n",
       "      <td>270000.000000</td>\n",
       "      <td>1293502.500000</td>\n",
       "      <td>35698.500000</td>\n",
       "      <td>...</td>\n",
       "      <td>XAP</td>\n",
       "      <td>Repeater</td>\n",
       "      <td>XNA</td>\n",
       "      <td>Cash</td>\n",
       "      <td>x-sell</td>\n",
       "      <td>Credit and cash offices</td>\n",
       "      <td>-1</td>\n",
       "      <td>12.000000</td>\n",
       "      <td>low_normal</td>\n",
       "      <td>Cash X-Sell: low</td>\n",
       "    </tr>\n",
       "    <tr>\n",
       "      <th>2</th>\n",
       "      <td>100003</td>\n",
       "      <td>0</td>\n",
       "      <td>Cash loans</td>\n",
       "      <td>F</td>\n",
       "      <td>N</td>\n",
       "      <td>N</td>\n",
       "      <td>0</td>\n",
       "      <td>270000.000000</td>\n",
       "      <td>1293502.500000</td>\n",
       "      <td>35698.500000</td>\n",
       "      <td>...</td>\n",
       "      <td>XAP</td>\n",
       "      <td>Refreshed</td>\n",
       "      <td>Furniture</td>\n",
       "      <td>POS</td>\n",
       "      <td>XNA</td>\n",
       "      <td>Stone</td>\n",
       "      <td>1400</td>\n",
       "      <td>6.000000</td>\n",
       "      <td>middle</td>\n",
       "      <td>POS industry with interest</td>\n",
       "    </tr>\n",
       "    <tr>\n",
       "      <th>3</th>\n",
       "      <td>100003</td>\n",
       "      <td>0</td>\n",
       "      <td>Cash loans</td>\n",
       "      <td>F</td>\n",
       "      <td>N</td>\n",
       "      <td>N</td>\n",
       "      <td>0</td>\n",
       "      <td>270000.000000</td>\n",
       "      <td>1293502.500000</td>\n",
       "      <td>35698.500000</td>\n",
       "      <td>...</td>\n",
       "      <td>XAP</td>\n",
       "      <td>Refreshed</td>\n",
       "      <td>Consumer Electronics</td>\n",
       "      <td>POS</td>\n",
       "      <td>XNA</td>\n",
       "      <td>Country-wide</td>\n",
       "      <td>200</td>\n",
       "      <td>12.000000</td>\n",
       "      <td>middle</td>\n",
       "      <td>POS household with interest</td>\n",
       "    </tr>\n",
       "    <tr>\n",
       "      <th>4</th>\n",
       "      <td>100004</td>\n",
       "      <td>0</td>\n",
       "      <td>Revolving loans</td>\n",
       "      <td>M</td>\n",
       "      <td>Y</td>\n",
       "      <td>Y</td>\n",
       "      <td>0</td>\n",
       "      <td>67500.000000</td>\n",
       "      <td>135000.000000</td>\n",
       "      <td>6750.000000</td>\n",
       "      <td>...</td>\n",
       "      <td>XAP</td>\n",
       "      <td>New</td>\n",
       "      <td>Mobile</td>\n",
       "      <td>POS</td>\n",
       "      <td>XNA</td>\n",
       "      <td>Regional / Local</td>\n",
       "      <td>30</td>\n",
       "      <td>4.000000</td>\n",
       "      <td>middle</td>\n",
       "      <td>POS mobile without interest</td>\n",
       "    </tr>\n",
       "  </tbody>\n",
       "</table>\n",
       "<p>5 rows × 106 columns</p>\n",
       "</div>"
      ],
      "text/plain": [
       "   SK_ID_CURR  TARGET NAME_CONTRACT_TYPE_x CODE_GENDER FLAG_OWN_CAR  \\\n",
       "0      100002       1           Cash loans           M            N   \n",
       "1      100003       0           Cash loans           F            N   \n",
       "2      100003       0           Cash loans           F            N   \n",
       "3      100003       0           Cash loans           F            N   \n",
       "4      100004       0      Revolving loans           M            Y   \n",
       "\n",
       "  FLAG_OWN_REALTY  CNT_CHILDREN  AMT_INCOME_TOTAL   AMT_CREDIT_x  \\\n",
       "0               Y             0     202500.000000  406597.500000   \n",
       "1               N             0     270000.000000 1293502.500000   \n",
       "2               N             0     270000.000000 1293502.500000   \n",
       "3               N             0     270000.000000 1293502.500000   \n",
       "4               Y             0      67500.000000  135000.000000   \n",
       "\n",
       "   AMT_ANNUITY_x  ...  CODE_REJECT_REASON NAME_CLIENT_TYPE  \\\n",
       "0   24700.500000  ...                 XAP              New   \n",
       "1   35698.500000  ...                 XAP         Repeater   \n",
       "2   35698.500000  ...                 XAP        Refreshed   \n",
       "3   35698.500000  ...                 XAP        Refreshed   \n",
       "4    6750.000000  ...                 XAP              New   \n",
       "\n",
       "    NAME_GOODS_CATEGORY NAME_PORTFOLIO NAME_PRODUCT_TYPE  \\\n",
       "0              Vehicles            POS               XNA   \n",
       "1                   XNA           Cash            x-sell   \n",
       "2             Furniture            POS               XNA   \n",
       "3  Consumer Electronics            POS               XNA   \n",
       "4                Mobile            POS               XNA   \n",
       "\n",
       "              CHANNEL_TYPE  SELLERPLACE_AREA  CNT_PAYMENT  NAME_YIELD_GROUP  \\\n",
       "0                    Stone               500    24.000000        low_normal   \n",
       "1  Credit and cash offices                -1    12.000000        low_normal   \n",
       "2                    Stone              1400     6.000000            middle   \n",
       "3             Country-wide               200    12.000000            middle   \n",
       "4         Regional / Local                30     4.000000            middle   \n",
       "\n",
       "           PRODUCT_COMBINATION  \n",
       "0      POS other with interest  \n",
       "1             Cash X-Sell: low  \n",
       "2   POS industry with interest  \n",
       "3  POS household with interest  \n",
       "4  POS mobile without interest  \n",
       "\n",
       "[5 rows x 106 columns]"
      ]
     },
     "execution_count": 66,
     "metadata": {},
     "output_type": "execute_result"
    }
   ],
   "source": [
    "merged_df =pd.merge(left=application,right=prev_appl,how='inner',on='SK_ID_CURR')\n",
    "merged_df.head()"
   ]
  },
  {
   "cell_type": "code",
   "execution_count": 67,
   "metadata": {},
   "outputs": [
    {
     "name": "stdout",
     "output_type": "stream",
     "text": [
      "<class 'pandas.core.frame.DataFrame'>\n",
      "Int64Index: 1413388 entries, 0 to 1413387\n",
      "Columns: 106 entries, SK_ID_CURR to PRODUCT_COMBINATION\n",
      "dtypes: category(2), float64(32), int64(46), object(26)\n",
      "memory usage: 1.1+ GB\n"
     ]
    }
   ],
   "source": [
    "merged_df.info()"
   ]
  },
  {
   "cell_type": "markdown",
   "metadata": {},
   "source": [
    "As we can see that there are 106 columns we will now delete some of the columns"
   ]
  },
  {
   "cell_type": "code",
   "execution_count": 68,
   "metadata": {},
   "outputs": [],
   "source": [
    "column_to_delete = ['FLAG_DOCUMENT_2', 'FLAG_DOCUMENT_3','FLAG_DOCUMENT_4', 'FLAG_DOCUMENT_5', 'FLAG_DOCUMENT_6',\n",
    "       'FLAG_DOCUMENT_7', 'FLAG_DOCUMENT_8', 'FLAG_DOCUMENT_9','FLAG_DOCUMENT_10', 'FLAG_DOCUMENT_11', 'FLAG_DOCUMENT_12',\n",
    "       'FLAG_DOCUMENT_13', 'FLAG_DOCUMENT_14', 'FLAG_DOCUMENT_15','FLAG_DOCUMENT_16', 'FLAG_DOCUMENT_17', 'FLAG_DOCUMENT_18',\n",
    "       'FLAG_DOCUMENT_19', 'FLAG_DOCUMENT_20', 'FLAG_DOCUMENT_21','AMT_REQ_CREDIT_BUREAU_HOUR', 'AMT_REQ_CREDIT_BUREAU_DAY','AMT_REQ_CREDIT_BUREAU_WEEK', 'AMT_REQ_CREDIT_BUREAU_MON',\n",
    "       'AMT_REQ_CREDIT_BUREAU_QRT','OBS_30_CNT_SOCIAL_CIRCLE', 'DEF_30_CNT_SOCIAL_CIRCLE', 'REG_REGION_NOT_LIVE_REGION', 'REG_REGION_NOT_WORK_REGION','LIVE_REGION_NOT_WORK_REGION', 'REG_CITY_NOT_LIVE_CITY','REG_CITY_NOT_WORK_CITY', 'LIVE_CITY_NOT_WORK_CITY','REGION_POPULATION_RELATIVE','REGION_RATING_CLIENT_W_CITY', 'CNT_FAM_MEMBERS','FLAG_EMAIL',\n",
    "         'NAME_TYPE_SUITE', 'EXT_SOURCE_3', 'FLAG_LAST_APPL_PER_CONTRACT','NFLAG_LAST_APPL_IN_DAY','SELLERPLACE_AREA', 'PRODUCT_COMBINATION']"
   ]
  },
  {
   "cell_type": "code",
   "execution_count": 69,
   "metadata": {},
   "outputs": [
    {
     "data": {
      "text/plain": [
       "(1413388, 63)"
      ]
     },
     "execution_count": 69,
     "metadata": {},
     "output_type": "execute_result"
    }
   ],
   "source": [
    "#Now we will delete some of the columns mentioned in above list before starting the analysis\n",
    "merged_df.drop(columns = column_to_delete, inplace = True)\n",
    "merged_df.shape"
   ]
  },
  {
   "cell_type": "markdown",
   "metadata": {},
   "source": [
    "## Now we will analyse few columns of the merged data "
   ]
  },
  {
   "cell_type": "code",
   "execution_count": 70,
   "metadata": {},
   "outputs": [
    {
     "data": {
      "text/plain": [
       "Approved        886099\n",
       "Canceled        259157\n",
       "Refused         245361\n",
       "Unused offer     22771\n",
       "Name: NAME_CONTRACT_STATUS, dtype: int64"
      ]
     },
     "execution_count": 70,
     "metadata": {},
     "output_type": "execute_result"
    }
   ],
   "source": [
    "merged_df['NAME_CONTRACT_STATUS'].value_counts()"
   ]
  },
  {
   "cell_type": "code",
   "execution_count": 71,
   "metadata": {
    "scrolled": true
   },
   "outputs": [
    {
     "data": {
      "text/plain": [
       "Index(['SK_ID_CURR', 'TARGET', 'NAME_CONTRACT_TYPE_x', 'CODE_GENDER',\n",
       "       'FLAG_OWN_CAR', 'FLAG_OWN_REALTY', 'CNT_CHILDREN', 'AMT_INCOME_TOTAL',\n",
       "       'AMT_CREDIT_x', 'AMT_ANNUITY_x', 'AMT_GOODS_PRICE_x',\n",
       "       'NAME_INCOME_TYPE', 'NAME_EDUCATION_TYPE', 'NAME_FAMILY_STATUS',\n",
       "       'NAME_HOUSING_TYPE', 'DAYS_BIRTH', 'DAYS_EMPLOYED', 'DAYS_REGISTRATION',\n",
       "       'DAYS_ID_PUBLISH', 'FLAG_MOBIL', 'FLAG_EMP_PHONE', 'FLAG_WORK_PHONE',\n",
       "       'FLAG_CONT_MOBILE', 'FLAG_PHONE', 'OCCUPATION_TYPE',\n",
       "       'REGION_RATING_CLIENT', 'WEEKDAY_APPR_PROCESS_START_x',\n",
       "       'HOUR_APPR_PROCESS_START_x', 'ORGANIZATION_TYPE', 'EXT_SOURCE_2',\n",
       "       'YEARS_BEGINEXPLUATATION_AVG', 'FLOORSMAX_AVG',\n",
       "       'YEARS_BEGINEXPLUATATION_MODE', 'FLOORSMAX_MODE',\n",
       "       'YEARS_BEGINEXPLUATATION_MEDI', 'FLOORSMAX_MEDI', 'TOTALAREA_MODE',\n",
       "       'EMERGENCYSTATE_MODE', 'OBS_60_CNT_SOCIAL_CIRCLE',\n",
       "       'DEF_60_CNT_SOCIAL_CIRCLE', 'DAYS_LAST_PHONE_CHANGE',\n",
       "       'AMT_REQ_CREDIT_BUREAU_YEAR', 'Credit_Exposure', 'Income_Category',\n",
       "       'SK_ID_PREV', 'NAME_CONTRACT_TYPE_y', 'AMT_ANNUITY_y',\n",
       "       'AMT_APPLICATION', 'AMT_CREDIT_y', 'AMT_GOODS_PRICE_y',\n",
       "       'WEEKDAY_APPR_PROCESS_START_y', 'HOUR_APPR_PROCESS_START_y',\n",
       "       'NAME_CONTRACT_STATUS', 'DAYS_DECISION', 'NAME_PAYMENT_TYPE',\n",
       "       'CODE_REJECT_REASON', 'NAME_CLIENT_TYPE', 'NAME_GOODS_CATEGORY',\n",
       "       'NAME_PORTFOLIO', 'NAME_PRODUCT_TYPE', 'CHANNEL_TYPE', 'CNT_PAYMENT',\n",
       "       'NAME_YIELD_GROUP'],\n",
       "      dtype='object')"
      ]
     },
     "execution_count": 71,
     "metadata": {},
     "output_type": "execute_result"
    }
   ],
   "source": [
    "merged_df.columns"
   ]
  },
  {
   "cell_type": "code",
   "execution_count": 72,
   "metadata": {},
   "outputs": [],
   "source": [
    "# Taking only necessary column for correlation column\n",
    "df_corr_merged = ['CNT_CHILDREN', 'AMT_INCOME_TOTAL','AMT_CREDIT_x', 'AMT_ANNUITY_x', 'AMT_GOODS_PRICE_x', 'DAYS_BIRTH', 'DAYS_EMPLOYED',\n",
    "                  'AMT_ANNUITY_y','AMT_APPLICATION', 'AMT_CREDIT_y', 'AMT_GOODS_PRICE_y',]\n",
    "                    "
   ]
  },
  {
   "cell_type": "code",
   "execution_count": 73,
   "metadata": {},
   "outputs": [
    {
     "data": {
      "text/html": [
       "<div>\n",
       "<style scoped>\n",
       "    .dataframe tbody tr th:only-of-type {\n",
       "        vertical-align: middle;\n",
       "    }\n",
       "\n",
       "    .dataframe tbody tr th {\n",
       "        vertical-align: top;\n",
       "    }\n",
       "\n",
       "    .dataframe thead th {\n",
       "        text-align: right;\n",
       "    }\n",
       "</style>\n",
       "<table border=\"1\" class=\"dataframe\">\n",
       "  <thead>\n",
       "    <tr style=\"text-align: right;\">\n",
       "      <th></th>\n",
       "      <th>VAR1</th>\n",
       "      <th>VAR2</th>\n",
       "      <th>Correlation</th>\n",
       "    </tr>\n",
       "  </thead>\n",
       "  <tbody>\n",
       "    <tr>\n",
       "      <th>0</th>\n",
       "      <td>CNT_CHILDREN</td>\n",
       "      <td>CNT_CHILDREN</td>\n",
       "      <td>nan</td>\n",
       "    </tr>\n",
       "    <tr>\n",
       "      <th>1</th>\n",
       "      <td>CNT_CHILDREN</td>\n",
       "      <td>AMT_INCOME_TOTAL</td>\n",
       "      <td>nan</td>\n",
       "    </tr>\n",
       "    <tr>\n",
       "      <th>2</th>\n",
       "      <td>CNT_CHILDREN</td>\n",
       "      <td>AMT_CREDIT_x</td>\n",
       "      <td>nan</td>\n",
       "    </tr>\n",
       "    <tr>\n",
       "      <th>3</th>\n",
       "      <td>CNT_CHILDREN</td>\n",
       "      <td>AMT_ANNUITY_x</td>\n",
       "      <td>nan</td>\n",
       "    </tr>\n",
       "    <tr>\n",
       "      <th>4</th>\n",
       "      <td>CNT_CHILDREN</td>\n",
       "      <td>AMT_GOODS_PRICE_x</td>\n",
       "      <td>nan</td>\n",
       "    </tr>\n",
       "  </tbody>\n",
       "</table>\n",
       "</div>"
      ],
      "text/plain": [
       "           VAR1               VAR2  Correlation\n",
       "0  CNT_CHILDREN       CNT_CHILDREN          nan\n",
       "1  CNT_CHILDREN   AMT_INCOME_TOTAL          nan\n",
       "2  CNT_CHILDREN       AMT_CREDIT_x          nan\n",
       "3  CNT_CHILDREN      AMT_ANNUITY_x          nan\n",
       "4  CNT_CHILDREN  AMT_GOODS_PRICE_x          nan"
      ]
     },
     "execution_count": 73,
     "metadata": {},
     "output_type": "execute_result"
    }
   ],
   "source": [
    "\n",
    "corr = merged_df[df_corr_merged].corr()\n",
    "corr = corr.where(np.triu(np.ones(corr.shape), k=1).astype(np.bool))\n",
    "corrdfmerged = corr.unstack().reset_index()\n",
    "corrdfmerged.columns = ['VAR1', 'VAR2', 'Correlation']\n",
    "corrdfmerged.head()"
   ]
  },
  {
   "cell_type": "code",
   "execution_count": 74,
   "metadata": {},
   "outputs": [
    {
     "data": {
      "text/html": [
       "<div>\n",
       "<style scoped>\n",
       "    .dataframe tbody tr th:only-of-type {\n",
       "        vertical-align: middle;\n",
       "    }\n",
       "\n",
       "    .dataframe tbody tr th {\n",
       "        vertical-align: top;\n",
       "    }\n",
       "\n",
       "    .dataframe thead th {\n",
       "        text-align: right;\n",
       "    }\n",
       "</style>\n",
       "<table border=\"1\" class=\"dataframe\">\n",
       "  <thead>\n",
       "    <tr style=\"text-align: right;\">\n",
       "      <th></th>\n",
       "      <th>VAR1</th>\n",
       "      <th>VAR2</th>\n",
       "      <th>Correlation</th>\n",
       "    </tr>\n",
       "  </thead>\n",
       "  <tbody>\n",
       "    <tr>\n",
       "      <th>118</th>\n",
       "      <td>AMT_GOODS_PRICE_y</td>\n",
       "      <td>AMT_APPLICATION</td>\n",
       "      <td>1.000000</td>\n",
       "    </tr>\n",
       "    <tr>\n",
       "      <th>119</th>\n",
       "      <td>AMT_GOODS_PRICE_y</td>\n",
       "      <td>AMT_CREDIT_y</td>\n",
       "      <td>0.990000</td>\n",
       "    </tr>\n",
       "    <tr>\n",
       "      <th>46</th>\n",
       "      <td>AMT_GOODS_PRICE_x</td>\n",
       "      <td>AMT_CREDIT_x</td>\n",
       "      <td>0.990000</td>\n",
       "    </tr>\n",
       "    <tr>\n",
       "      <th>107</th>\n",
       "      <td>AMT_CREDIT_y</td>\n",
       "      <td>AMT_APPLICATION</td>\n",
       "      <td>0.980000</td>\n",
       "    </tr>\n",
       "    <tr>\n",
       "      <th>106</th>\n",
       "      <td>AMT_CREDIT_y</td>\n",
       "      <td>AMT_ANNUITY_y</td>\n",
       "      <td>0.820000</td>\n",
       "    </tr>\n",
       "    <tr>\n",
       "      <th>117</th>\n",
       "      <td>AMT_GOODS_PRICE_y</td>\n",
       "      <td>AMT_ANNUITY_y</td>\n",
       "      <td>0.820000</td>\n",
       "    </tr>\n",
       "    <tr>\n",
       "      <th>95</th>\n",
       "      <td>AMT_APPLICATION</td>\n",
       "      <td>AMT_ANNUITY_y</td>\n",
       "      <td>0.810000</td>\n",
       "    </tr>\n",
       "    <tr>\n",
       "      <th>35</th>\n",
       "      <td>AMT_ANNUITY_x</td>\n",
       "      <td>AMT_CREDIT_x</td>\n",
       "      <td>0.760000</td>\n",
       "    </tr>\n",
       "    <tr>\n",
       "      <th>47</th>\n",
       "      <td>AMT_GOODS_PRICE_x</td>\n",
       "      <td>AMT_ANNUITY_x</td>\n",
       "      <td>0.760000</td>\n",
       "    </tr>\n",
       "    <tr>\n",
       "      <th>71</th>\n",
       "      <td>DAYS_EMPLOYED</td>\n",
       "      <td>DAYS_BIRTH</td>\n",
       "      <td>0.630000</td>\n",
       "    </tr>\n",
       "  </tbody>\n",
       "</table>\n",
       "</div>"
      ],
      "text/plain": [
       "                  VAR1             VAR2  Correlation\n",
       "118  AMT_GOODS_PRICE_y  AMT_APPLICATION     1.000000\n",
       "119  AMT_GOODS_PRICE_y     AMT_CREDIT_y     0.990000\n",
       "46   AMT_GOODS_PRICE_x     AMT_CREDIT_x     0.990000\n",
       "107       AMT_CREDIT_y  AMT_APPLICATION     0.980000\n",
       "106       AMT_CREDIT_y    AMT_ANNUITY_y     0.820000\n",
       "117  AMT_GOODS_PRICE_y    AMT_ANNUITY_y     0.820000\n",
       "95     AMT_APPLICATION    AMT_ANNUITY_y     0.810000\n",
       "35       AMT_ANNUITY_x     AMT_CREDIT_x     0.760000\n",
       "47   AMT_GOODS_PRICE_x    AMT_ANNUITY_x     0.760000\n",
       "71       DAYS_EMPLOYED       DAYS_BIRTH     0.630000"
      ]
     },
     "execution_count": 74,
     "metadata": {},
     "output_type": "execute_result"
    }
   ],
   "source": [
    "corrdfmerged.dropna(subset = ['Correlation'], inplace = True)\n",
    "corrdfmerged['Correlation'] = round(corrdfmerged['Correlation'], 2)\n",
    "# Since we see correlation as an absolute value, we are converting it into absolute value\n",
    "corrdfmerged['Correlation'] = corrdfmerged['Correlation'].abs()\n",
    "corrdfmerged.sort_values(by = 'Correlation', ascending = False).head(10)"
   ]
  },
  {
   "cell_type": "code",
   "execution_count": 75,
   "metadata": {},
   "outputs": [
    {
     "data": {
      "image/png": "[encoded data removed]",
      "text/plain": [
       "<Figure size 1080x1440 with 1 Axes>"
      ]
     },
     "metadata": {
      "needs_background": "light"
     },
     "output_type": "display_data"
    }
   ],
   "source": [
    "plt.figure(figsize=(15,20))\n",
    "plt.rcParams[\"axes.labelsize\"] = 20\n",
    "plt.rcParams['axes.titlesize'] = 15\n",
    "plt.rcParams['axes.titlepad'] = 15\n",
    "plt.xticks(rotation=90)\n",
    "plt.yscale('log')\n",
    "plt.title('Previously Application Male Female Wise Status')\n",
    "\n",
    "sns.countplot(data = merged_df, x= 'NAME_CONTRACT_STATUS', \n",
    "                   order=merged_df['NAME_CONTRACT_STATUS'].value_counts().index,hue = 'CODE_GENDER',palette='magma')\n",
    "plt.show();"
   ]
  },
  {
   "cell_type": "markdown",
   "metadata": {},
   "source": [
    "We can see that there is not much difference in the application approval/rejection based on Gender. So we can say that gender has not a major role in approval or rejection of loan."
   ]
  },
  {
   "cell_type": "code",
   "execution_count": 76,
   "metadata": {},
   "outputs": [
    {
     "data": {
      "image/png": "[encoded data removed]",
      "text/plain": [
       "<Figure size 1224x2160 with 4 Axes>"
      ]
     },
     "metadata": {
      "needs_background": "light"
     },
     "output_type": "display_data"
    }
   ],
   "source": [
    "#We will select some catagorical features for analysis \n",
    "sub_cat_features = ['NAME_FAMILY_STATUS','OCCUPATION_TYPE','NAME_CONTRACT_TYPE_y','NAME_EDUCATION_TYPE']\n",
    "plt.figure(figsize = (17, 30))\n",
    "for i in enumerate(sub_cat_features):\n",
    "    plt.subplot(3, 2, i[0]+1)\n",
    "    splot = sns.countplot(x = i[1], hue = 'NAME_CONTRACT_STATUS', data = merged_df)\n",
    "    plt.xticks(rotation = 90)"
   ]
  },
  {
   "cell_type": "markdown",
   "metadata": {},
   "source": [
    "We can see from the above that -\n",
    "1. Married people have the highest amount of Approval, Cancellation,Refused and Unused offers.\n",
    "2. Similarly labourers have highest amount of Approval, Cancellation,Refused and Unused offers.\n",
    "3. There are very few Approvals, Cancellations,Refused and Unused offers in case of IT employees and HR.\n",
    "4. In case of Cash loans and Revolving loans there are higher refusals as compared to consumer loans\n",
    "5. In case of revolving loans more no of customers have either cancelled the application or bank has refused them. #### So bank may rethink of this product. \n",
    "6. Customers with Secondary/sp secondary have highest amount of Approval, Cancellation,Refused and Unused offers."
   ]
  },
  {
   "cell_type": "code",
   "execution_count": 77,
   "metadata": {},
   "outputs": [
    {
     "data": {
      "image/png": "[encoded data removed]",
      "text/plain": [
       "<Figure size 1080x720 with 1 Axes>"
      ]
     },
     "metadata": {
      "needs_background": "light"
     },
     "output_type": "display_data"
    }
   ],
   "source": [
    "plt.figure(figsize=(15,10))\n",
    "plt.rcParams[\"axes.labelsize\"] = 20\n",
    "plt.rcParams['axes.titlesize'] = 15\n",
    "plt.rcParams['axes.titlepad'] = 15\n",
    "plt.xticks(rotation=90)\n",
    "plt.yscale('log')\n",
    "plt.title('Payment Difficulty Status in Previously Received Application')\n",
    "\n",
    "sns.countplot(data = merged_df, x= 'NAME_CONTRACT_STATUS', \n",
    "                   order=merged_df['NAME_CONTRACT_STATUS'].value_counts().index,hue = 'TARGET',palette='magma')\n",
    "plt.show(); "
   ]
  },
  {
   "cell_type": "markdown",
   "metadata": {},
   "source": [
    "1. We can see from the above that in many of the previously rejected cases there is no payment difficulty or payment difficulty percentage is similar to previously approved cases. This can be considered as a loss to the company.\n",
    "2. In case of previously unused offers the difficulty in payment is relatively very less."
   ]
  },
  {
   "cell_type": "code",
   "execution_count": 78,
   "metadata": {},
   "outputs": [
    {
     "data": {
      "image/png": "[encoded data removed]",
      "text/plain": [
       "<Figure size 1152x576 with 1 Axes>"
      ]
     },
     "metadata": {
      "needs_background": "light"
     },
     "output_type": "display_data"
    }
   ],
   "source": [
    "plt.figure(figsize=(16,8))\n",
    "\n",
    "# subplot 1:Payment Difficulty Income Amount vs Education Status Vs Gender'\n",
    "plt.xticks(rotation=45)\n",
    "plt.yscale('log')\n",
    "sns.countplot(data =merged_df, x='CHANNEL_TYPE', hue ='NAME_CONTRACT_STATUS')\n",
    "plt.title('Channel thorugh which Client Acquired  vs Contract Status')\n",
    "plt.show()"
   ]
  },
  {
   "cell_type": "markdown",
   "metadata": {},
   "source": [
    "We can see from the above that -\n",
    "1. In case of customers acquired thorugh contact center there is very high percentage of cancellation or refusal by the bank.\n",
    "2. Highest no of application cancelled in between are in case of customers acquired via credit and cash offices.\n",
    "3. In case the channel is corporate sales there is high percentage of cancellation compaed to total application received."
   ]
  },
  {
   "cell_type": "code",
   "execution_count": 79,
   "metadata": {},
   "outputs": [
    {
     "data": {
      "text/plain": [
       "<Figure size 2160x1080 with 0 Axes>"
      ]
     },
     "metadata": {},
     "output_type": "display_data"
    },
    {
     "data": {
      "image/png": "[encoded data removed]",
      "text/plain": [
       "<Figure size 896.375x360 with 2 Axes>"
      ]
     },
     "metadata": {
      "needs_background": "light"
     },
     "output_type": "display_data"
    }
   ],
   "source": [
    "plt.figure(figsize=(30,15))\n",
    "sns.catplot(x=\"NAME_CONTRACT_STATUS\", y=\"AMT_CREDIT_y\",hue=\"NAME_CLIENT_TYPE\",col='TARGET', data=merged_df, kind=\"bar\",palette=\"Set3\")\n",
    "plt.title('Contract Status Based on Client Type')\n",
    "plt.show();"
   ]
  },
  {
   "cell_type": "markdown",
   "metadata": {},
   "source": [
    "As we can see from the above -\n",
    "1. The bank needs to improve its rejection mechanism as many of the clients who have earlier refused loans have not faced payment difficulty.\n",
    "2. There is payment difficulty observed even in case the client is a repeater or refreshed."
   ]
  },
  {
   "cell_type": "markdown",
   "metadata": {},
   "source": [
    "### Conclusions and Recommendation "
   ]
  },
  {
   "attachments": {},
   "cell_type": "markdown",
   "metadata": {},
   "source": [
    "1. Bank should focus on diversifying its customers base as most of the customers presently as having income less than 3 lakhs.\n",
    "2. Most of the customers of the bank are either labourers or sales staff. Bank should plan a loan campaign for attracting customers from other professions like IT staff, HR staff, Secretaries as well. This will help the bank to deconcentrate their risk profile.\n",
    "3. There is less payment difficulty in case of female borrowers.\n",
    "4. Bank should take step to understand the credit need of customers with academic as presently there are very few such customers with bank.\n",
    "5. Bank should give preference to customers with less # of credit bureau enquiries. Alternatively, bank can devise a scheme of Risk Premium where in Risk Premium is added to interest rate based on no of credit bureau enquiries.\n",
    "6. Bank should give preference to customers with more external credit rating source 3. \n",
    "7. Bank should give preference to customers who have employed for more days and have a sufficient amount of employment left so as to repay the loan.\n",
    "8. Bank should exercise greater caution in case if low exposure i.e. exposure of less than 50,000/- loans. Bank may consider taking collateral security or having a regular monitoring mechanism for such customers.\n",
    "9. In case of Customers with Secondary / secondary special education, customer having car or realty should be preferred.\n",
    "10. Banks credit appraisal system is Gender neutral which bank can highlight to promote their bank as approval and rejection rate is not affected by gender.\n",
    "11. In case of revolving loans more no. of customers have either cancelled the application or bank has refused them. So bank may rethink of this product.\n",
    "12. In many of the previously rejected cases there is no payment difficulty or payment difficulty percentage is similar to previously approved cases. This can be considered as a loss to the company.\n",
    "13. In case of previously unused offers the difficulty in payment is relatively very less. Bank may have a mechanism of regular follow-up with the customers who have not yet used their offer.\n",
    "14. In case the channel is corporate sales there is high percentage of cancellation compared to total application received. The bank may want to relook at this channel."
   ]
  }
 ],
 "metadata": {
  "kernelspec": {
   "display_name": "Python 3",
   "language": "python",
   "name": "python3"
  },
  "language_info": {
   "codemirror_mode": {
    "name": "ipython",
    "version": 3
   },
   "file_extension": ".py",
   "mimetype": "text/x-python",
   "name": "python",
   "nbconvert_exporter": "python",
   "pygments_lexer": "ipython3",
   "version": "3.7.6"
  }
 },
 "nbformat": 4,
 "nbformat_minor": 4
}
